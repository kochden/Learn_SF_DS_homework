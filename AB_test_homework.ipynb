{
 "cells": [
  {
   "cell_type": "markdown",
   "metadata": {},
   "source": [
    "## АНАЛИЗ ЭФФЕКТИВНОСТИ ДВУХ ВАРИАНТОВ ПОСАДОЧНОЙ СТРАНИЦЫ\n",
    "\n",
    "Представьте, что вы — Data Scientist в туристической фирме. Компания планирует запустить новую акцию, чтобы продать как можно больше туров. Команда разработала два варианта посадочной страницы официального сайта и провела A/B-тестирование. В результате эксперимента были собраны данные — скачайте их по ссылке ниже.\n",
    "\n",
    "[Скачать данные](https://lms-cdn.skillfactory.ru/assets/courseware/v1/3274d20d12cca49b6ce3d18d75ba8826/asset-v1:SkillFactory+DST-3.0+28FEB2021+type@asset+block/ab_data_tourist.zip)\n",
    "\n",
    "Вам предстоит решить настоящую бизнес-задачу: проанализировать эффективность обоих вариантов посадочной страницы сразу по двум критериям — **конверсии покупки** и **ежедневному среднему чеку**.\n",
    "\n",
    "Вы должны убедиться, что A/B-тестирование было проведено корректно, проверить факт стабилизации метрик и обоснованно ответить на ключевой вопрос турагентства: какой вариант посадочной страницы более предпочтителен по метрикам конверсии и ежедневного среднего чека?\n",
    "\n",
    "Итак, компания предлагает следующие варианты туров:\n",
    "- Таиланд — 100 000 рублей;\n",
    "- Турция — 60 000 рублей;\n",
    "- Мальдивы — 200 000 рублей;\n",
    "- Санкт-Петербург — 10 000 рублей;\n",
    "- Камчатка — 150 000 рублей.\n"
   ]
  },
  {
   "cell_type": "code",
   "execution_count": 1,
   "metadata": {},
   "outputs": [],
   "source": [
    "import pandas as pd\n",
    "import matplotlib.pyplot as plt\n",
    "import seaborn as sns\n",
    "from statsmodels.stats.proportion import proportions_ztest\n",
    "from statsmodels.stats.proportion import proportions_chisquare\n",
    "from statsmodels.stats import proportion\n",
    "from scipy.stats import shapiro\n",
    "from scipy.stats import ttest_ind\n",
    "from scipy.stats import norm\n",
    "from scipy.stats import t"
   ]
  },
  {
   "cell_type": "markdown",
   "metadata": {},
   "source": [
    "Прочитаем наши данные и посмотрим на столбцы таблицы:"
   ]
  },
  {
   "cell_type": "code",
   "execution_count": 2,
   "metadata": {},
   "outputs": [
    {
     "data": {
      "text/html": [
       "<div>\n",
       "<style scoped>\n",
       "    .dataframe tbody tr th:only-of-type {\n",
       "        vertical-align: middle;\n",
       "    }\n",
       "\n",
       "    .dataframe tbody tr th {\n",
       "        vertical-align: top;\n",
       "    }\n",
       "\n",
       "    .dataframe thead th {\n",
       "        text-align: right;\n",
       "    }\n",
       "</style>\n",
       "<table border=\"1\" class=\"dataframe\">\n",
       "  <thead>\n",
       "    <tr style=\"text-align: right;\">\n",
       "      <th></th>\n",
       "      <th>user_id</th>\n",
       "      <th>date</th>\n",
       "      <th>group</th>\n",
       "      <th>purchase</th>\n",
       "      <th>price</th>\n",
       "    </tr>\n",
       "  </thead>\n",
       "  <tbody>\n",
       "    <tr>\n",
       "      <th>0</th>\n",
       "      <td>851104</td>\n",
       "      <td>2021-01-21</td>\n",
       "      <td>A</td>\n",
       "      <td>0</td>\n",
       "      <td>0</td>\n",
       "    </tr>\n",
       "    <tr>\n",
       "      <th>1</th>\n",
       "      <td>804228</td>\n",
       "      <td>2021-01-12</td>\n",
       "      <td>A</td>\n",
       "      <td>0</td>\n",
       "      <td>0</td>\n",
       "    </tr>\n",
       "    <tr>\n",
       "      <th>2</th>\n",
       "      <td>661590</td>\n",
       "      <td>2021-01-11</td>\n",
       "      <td>B</td>\n",
       "      <td>0</td>\n",
       "      <td>0</td>\n",
       "    </tr>\n",
       "    <tr>\n",
       "      <th>3</th>\n",
       "      <td>853541</td>\n",
       "      <td>2021-01-08</td>\n",
       "      <td>B</td>\n",
       "      <td>0</td>\n",
       "      <td>0</td>\n",
       "    </tr>\n",
       "    <tr>\n",
       "      <th>4</th>\n",
       "      <td>864975</td>\n",
       "      <td>2021-01-21</td>\n",
       "      <td>A</td>\n",
       "      <td>1</td>\n",
       "      <td>150000</td>\n",
       "    </tr>\n",
       "  </tbody>\n",
       "</table>\n",
       "</div>"
      ],
      "text/plain": [
       "   user_id        date group  purchase   price\n",
       "0   851104  2021-01-21     A         0       0\n",
       "1   804228  2021-01-12     A         0       0\n",
       "2   661590  2021-01-11     B         0       0\n",
       "3   853541  2021-01-08     B         0       0\n",
       "4   864975  2021-01-21     A         1  150000"
      ]
     },
     "execution_count": 2,
     "metadata": {},
     "output_type": "execute_result"
    }
   ],
   "source": [
    "url = 'https://lms-cdn.skillfactory.ru/assets/courseware/v1/3274d20d12cca49b6ce3d18d75ba8826/asset-v1:SkillFactory+DST-3.0+28FEB2021+type@asset+block/ab_data_tourist.zip'\n",
    "data = pd.read_csv(url)\n",
    "data.head()"
   ]
  },
  {
   "cell_type": "markdown",
   "metadata": {},
   "source": [
    "Наша таблица представлена следующими полями:\n",
    "- *user_id* — идентификатор пользователя, зашедшего на сайт;\n",
    "- *data* — дата посещения сайта;\n",
    "- *group* — группа теста (контрольная — А или тестовая — B);\n",
    "- *purchase* — признак покупки: совершил ли пользователь покупку тура (1 — да, 0 — нет);\n",
    "- *price* — цена купленного тура (если покупка не состоялась, цена равна 0)."
   ]
  },
  {
   "cell_type": "markdown",
   "metadata": {},
   "source": [
    "### Задание 1.\n",
    "\n",
    "Проанализируйте структуру данных и проведите их предобработку:\n",
    "- исследуйте структуру данных;\n",
    "- преобразуйте столбцы к необходимым типам данных.\n",
    "- Убедитесь в одинаковой длительности проведения A/B-тестирования в каждой из групп. Если длительность разная, унифицируйте данные, удалив лишние данные для соответствующей группы.\n",
    "- Проверьте данные на наличие пропусков и избавьтесь от них, если нужно.\n",
    "- Проверьте, есть ли пользователи, которые в процессе A/B-теста попали в обе группы. Если да, исключите пользователей, оказавшихся в обеих группах."
   ]
  },
  {
   "cell_type": "code",
   "execution_count": 3,
   "metadata": {},
   "outputs": [
    {
     "name": "stdout",
     "output_type": "stream",
     "text": [
      "<class 'pandas.core.frame.DataFrame'>\n",
      "RangeIndex: 294478 entries, 0 to 294477\n",
      "Data columns (total 5 columns):\n",
      " #   Column    Non-Null Count   Dtype \n",
      "---  ------    --------------   ----- \n",
      " 0   user_id   294478 non-null  int64 \n",
      " 1   date      294478 non-null  object\n",
      " 2   group     294478 non-null  object\n",
      " 3   purchase  294478 non-null  int64 \n",
      " 4   price     294478 non-null  int64 \n",
      "dtypes: int64(3), object(2)\n",
      "memory usage: 11.2+ MB\n"
     ]
    }
   ],
   "source": [
    "# посмотрим информацию по таблице\n",
    "data.info()"
   ]
  },
  {
   "cell_type": "markdown",
   "metadata": {},
   "source": [
    "Пропуски отсутствуют."
   ]
  },
  {
   "cell_type": "code",
   "execution_count": 4,
   "metadata": {},
   "outputs": [],
   "source": [
    "# преобразуем поле date\n",
    "data['date'] = pd.to_datetime(data['date'])"
   ]
  },
  {
   "cell_type": "code",
   "execution_count": 5,
   "metadata": {},
   "outputs": [
    {
     "name": "stdout",
     "output_type": "stream",
     "text": [
      "Количество пользователей попавших в обе группы: 1895\n"
     ]
    }
   ],
   "source": [
    "#Проверим, есть ли пользователи, которые в процессе A/B-теста попали в обе группы.\n",
    "list_of_users_a = set(data[data['group'] == 'A']['user_id'])\n",
    "list_of_users_b = set(data[data['group'] == 'B']['user_id'])\n",
    "user_intersection = list_of_users_a & list_of_users_b\n",
    "print('Количество пользователей попавших в обе группы:', len(user_intersection))"
   ]
  },
  {
   "cell_type": "code",
   "execution_count": 6,
   "metadata": {},
   "outputs": [],
   "source": [
    "# удаляем\n",
    "data = data[~data['user_id'].isin(user_intersection)]"
   ]
  },
  {
   "cell_type": "code",
   "execution_count": 7,
   "metadata": {},
   "outputs": [
    {
     "name": "stdout",
     "output_type": "stream",
     "text": [
      "Длительность совпадает\n"
     ]
    }
   ],
   "source": [
    "# Убедимся в одинаковой длительности проведения A/B-тестирования в каждой из групп\n",
    "\n",
    "# дата начала\n",
    "date_min_a = data[data['group'] == 'A']['date'].min()\n",
    "date_min_b = data[data['group'] == 'B']['date'].min()\n",
    "\n",
    "# дата окончания\n",
    "date_max_a = data[data['group'] == 'A']['date'].max()\n",
    "date_max_b = data[data['group'] == 'B']['date'].max()\n",
    "\n",
    "# количество дней\n",
    "quantity_of_days_a = len(data[data['group'] == 'A']['date'].unique())\n",
    "quantity_of_days_b = len(data[data['group'] == 'B']['date'].unique())\n",
    "\n",
    "# проверим на совпадение даты начала и окончания теста и число дней\n",
    "if date_min_a == date_min_b and date_max_a == date_max_b and  quantity_of_days_a == quantity_of_days_b:\n",
    "    print('Длительность совпадает')\n",
    "else:\n",
    "    print('Длительность не совпадает')\n"
   ]
  },
  {
   "cell_type": "markdown",
   "metadata": {},
   "source": [
    "### Задание 2.\n",
    "\n",
    "Сделайте первичный анализ результатов A/B-тестирования:\n",
    "\n",
    "Рассчитайте вспомогательные показатели для контрольной и тестовой групп:\n",
    "- количество посещений сайта;\n",
    "- суммарное количество совершённых покупок;\n",
    "- сумма всех покупок.\n",
    "\n",
    "Сделайте промежуточные выводы по построенной таблице. Сопоставимо ли количество посещений обоих вариантов посадочной страницы? Можно ли говорить о сбалансированности выборок?\n",
    "\n",
    "В каждой из групп рассчитайте ключевые показатели:\n",
    "- конверсия;\n",
    "- средний чек.\n",
    "\n",
    "Сделайте первичные выводы о результатах A/B-тестирования на основе показателей конверсии и среднего чека в каждой из групп. По какому(-им) показателю(-ям), на первый взгляд, вариант А эффективнее варианта B и наоборот?\n",
    "\n",
    "Сравните варианты A/B по покупательской способности каждого из туров. Для этого постройте сводную таблицу, которая покажет зависимость количества продаж от группы и цены тура. Визуализируйте полученную сводную таблицу.\n",
    "\n",
    "Сделайте выводы по построенной таблице. По каким турам покупательская способность участников группы А выше, чем покупательская способность участников группы B, и наоборот?"
   ]
  },
  {
   "cell_type": "code",
   "execution_count": 8,
   "metadata": {},
   "outputs": [],
   "source": [
    "# Количество посещений\n",
    "visit_count_a = data[data['group'] == 'A'].shape[0]\n",
    "visit_count_b = data[data['group'] == 'B'].shape[0]\n",
    "\n",
    "# Конверсия\n",
    "conversion_a = round(data[data['group'] == 'A']['purchase'].sum() / data[data['group'] == 'A'].shape[0] * 100, 2)\n",
    "conversion_b = round(data[data['group'] == 'B']['purchase'].sum() / data[data['group'] == 'B'].shape[0] * 100, 2)\n",
    "\n",
    "# Средний чек\n",
    "average_check_a = round(data[data['group'] == 'A']['price'].sum() / data[data['group'] == 'A']['purchase'].sum(), 2)\n",
    "average_check_b = round(data[data['group'] == 'B']['price'].sum() / data[data['group'] == 'B']['purchase'].sum(), 2)"
   ]
  },
  {
   "cell_type": "code",
   "execution_count": 9,
   "metadata": {},
   "outputs": [
    {
     "data": {
      "text/html": [
       "<div>\n",
       "<style scoped>\n",
       "    .dataframe tbody tr th:only-of-type {\n",
       "        vertical-align: middle;\n",
       "    }\n",
       "\n",
       "    .dataframe tbody tr th {\n",
       "        vertical-align: top;\n",
       "    }\n",
       "\n",
       "    .dataframe thead th {\n",
       "        text-align: right;\n",
       "    }\n",
       "</style>\n",
       "<table border=\"1\" class=\"dataframe\">\n",
       "  <thead>\n",
       "    <tr style=\"text-align: right;\">\n",
       "      <th></th>\n",
       "      <th>Группа</th>\n",
       "      <th>Кол-во посещений</th>\n",
       "      <th>Конверсия</th>\n",
       "      <th>Средний чек</th>\n",
       "    </tr>\n",
       "  </thead>\n",
       "  <tbody>\n",
       "    <tr>\n",
       "      <th>0</th>\n",
       "      <td>A</td>\n",
       "      <td>145307</td>\n",
       "      <td>12.03</td>\n",
       "      <td>81076.23</td>\n",
       "    </tr>\n",
       "    <tr>\n",
       "      <th>1</th>\n",
       "      <td>B</td>\n",
       "      <td>145381</td>\n",
       "      <td>11.89</td>\n",
       "      <td>88664.55</td>\n",
       "    </tr>\n",
       "  </tbody>\n",
       "</table>\n",
       "</div>"
      ],
      "text/plain": [
       "  Группа  Кол-во посещений  Конверсия  Средний чек\n",
       "0      A            145307      12.03     81076.23\n",
       "1      B            145381      11.89     88664.55"
      ]
     },
     "metadata": {},
     "output_type": "display_data"
    },
    {
     "name": "stdout",
     "output_type": "stream",
     "text": [
      "Абсолютная разница в количестве посещений посадочной страницы: 74\n",
      "В процентах: 0.05%\n"
     ]
    }
   ],
   "source": [
    "# сделаем таблицу для наглядности\n",
    "\n",
    "df = pd.DataFrame(\n",
    "    {\n",
    "        'Группа': ['A', 'B'],\n",
    "        'Кол-во посещений': [visit_count_a, visit_count_b],\n",
    "        'Конверсия': [conversion_a, conversion_b],\n",
    "        'Средний чек': [average_check_a, average_check_b]\n",
    "    }\n",
    ")\n",
    "\n",
    "display(df)\n",
    "\n",
    "print('Абсолютная разница в количестве посещений посадочной страницы:', visit_count_b - visit_count_a)\n",
    "print(f'В процентах: {round((visit_count_b - visit_count_a) / visit_count_a * 100, 2)}%')"
   ]
  },
  {
   "cell_type": "markdown",
   "metadata": {},
   "source": [
    "Количество посещений обоих вариантов посадочной страницы сопоставимо, можно говорить о сбалансированности выборок.  \n",
    "По показателю конверсии вариант А эффективнее.  \n",
    "А по показателю среднего чека эффективнее вариант B"
   ]
  },
  {
   "cell_type": "code",
   "execution_count": 10,
   "metadata": {},
   "outputs": [
    {
     "data": {
      "text/html": [
       "<div>\n",
       "<style scoped>\n",
       "    .dataframe tbody tr th:only-of-type {\n",
       "        vertical-align: middle;\n",
       "    }\n",
       "\n",
       "    .dataframe tbody tr th {\n",
       "        vertical-align: top;\n",
       "    }\n",
       "\n",
       "    .dataframe thead th {\n",
       "        text-align: right;\n",
       "    }\n",
       "</style>\n",
       "<table border=\"1\" class=\"dataframe\">\n",
       "  <thead>\n",
       "    <tr style=\"text-align: right;\">\n",
       "      <th>price</th>\n",
       "      <th>10000</th>\n",
       "      <th>60000</th>\n",
       "      <th>100000</th>\n",
       "      <th>150000</th>\n",
       "      <th>200000</th>\n",
       "    </tr>\n",
       "    <tr>\n",
       "      <th>group</th>\n",
       "      <th></th>\n",
       "      <th></th>\n",
       "      <th></th>\n",
       "      <th></th>\n",
       "      <th></th>\n",
       "    </tr>\n",
       "  </thead>\n",
       "  <tbody>\n",
       "    <tr>\n",
       "      <th>A</th>\n",
       "      <td>5182</td>\n",
       "      <td>5271</td>\n",
       "      <td>1832</td>\n",
       "      <td>3478</td>\n",
       "      <td>1724</td>\n",
       "    </tr>\n",
       "    <tr>\n",
       "      <th>B</th>\n",
       "      <td>5201</td>\n",
       "      <td>1730</td>\n",
       "      <td>5227</td>\n",
       "      <td>3438</td>\n",
       "      <td>1694</td>\n",
       "    </tr>\n",
       "  </tbody>\n",
       "</table>\n",
       "</div>"
      ],
      "text/plain": [
       "price  10000   60000   100000  150000  200000\n",
       "group                                        \n",
       "A        5182    5271    1832    3478    1724\n",
       "B        5201    1730    5227    3438    1694"
      ]
     },
     "execution_count": 10,
     "metadata": {},
     "output_type": "execute_result"
    }
   ],
   "source": [
    "# Сравните варианты A/B по покупательской способности каждого из туров. \n",
    "# Для этого постройте сводную таблицу, которая покажет зависимость количества продаж от группы и цены тура. \n",
    "# Визуализируйте полученную сводную таблицу.\n",
    "\n",
    "pivot_df = pd.pivot_table(\n",
    "    data[data['price'] > 0],\n",
    "    values='user_id',\n",
    "    index=['group'],\n",
    "    columns=['price'],\n",
    "    aggfunc='count'\n",
    ")\n",
    "pivot_df"
   ]
  },
  {
   "cell_type": "code",
   "execution_count": 11,
   "metadata": {},
   "outputs": [
    {
     "data": {
      "image/png": "[encoded data removed]",
      "text/plain": [
       "<Figure size 800x800 with 1 Axes>"
      ]
     },
     "metadata": {},
     "output_type": "display_data"
    }
   ],
   "source": [
    "fig, axes = plt.subplots(figsize=(8, 8))\n",
    "pivot_df.plot(kind='bar', ax=axes)\n",
    "axes.set_title('Зависимость количества продаж от группы и цены тура')\n",
    "axes.set_xlabel('Группа клиентов')\n",
    "axes.set_ylabel('Количество');"
   ]
  },
  {
   "cell_type": "markdown",
   "metadata": {},
   "source": [
    "На графике видно, что в группе А наиболее популярны туры за 10 и 60 тыс. рублей (Санкт-Петербург и Турция), а в группе В туры в Турцию не так популярны и клиенты из этой группы предпочитают Турции, более дорогие туры, стоимостью 100 тыс. рублей (Таиланд). Самые дорогие туры, за 150 и 200 тыс. рублей (Камчатка и Мальдивы) одинаково популярны в обеих группах.\n"
   ]
  },
  {
   "cell_type": "markdown",
   "metadata": {},
   "source": [
    "### Задание 3.\n",
    "\n",
    "Проанализируйте данные на предмет стабилизации метрик:\n",
    "\n",
    "Сгруппируйте данные по дате и группе тестирования и постройте таблицу с ежедневными данными результатов проведения A/B-тестирования. В каждой группе вычислите ежедневные показатели:\n",
    "- количество посещений страницы;\n",
    "- количество покупок;\n",
    "- сумму покупок.\n",
    "\n",
    "Добавьте в таблицу информацию о ежедневной конверсии (ежедневное количество покупок / ежедневное количество посещений) в группе и о ежедневном среднем чеке (ежедневная сумма покупок / ежедневное количество покупок).\n",
    "\n",
    "Рассчитайте кумулятивные показатели:\n",
    "- кумулятивное количество посещений страницы;\n",
    "- кумулятивное количество покупок;\n",
    "- кумулятивную сумму покупок.\n",
    "\n",
    "На основе полученных кумулятивных показателей вычислите кумулятивную конверсию и кумулятивный средний чек.\n",
    "\n",
    "Постройте кумулятивные графики конверсии и среднего чека в каждой группе по дням.\n",
    "\n",
    "Сделайте выводы. Можно ли назвать A/B-тест завершённым? Стабилизировались ли значения метрик во времени? Как соотносятся кумулятивные показатели в каждой группе?"
   ]
  },
  {
   "cell_type": "code",
   "execution_count": 12,
   "metadata": {},
   "outputs": [],
   "source": [
    "# Сгруппируем по дате и группе и рассчитаем ежедневные показатели\n",
    "\n",
    "daily_data = data.groupby(['date','group']).agg({\n",
    "    'user_id': 'count',\n",
    "    'purchase': 'sum',\n",
    "    'price': 'sum'\n",
    "}).reset_index().rename(columns={'user_id': 'visit_count', 'purchase': 'number_of_purchases', 'price': 'purchase_sum'})\n",
    "\n",
    "#daily_data.head()"
   ]
  },
  {
   "cell_type": "code",
   "execution_count": 13,
   "metadata": {},
   "outputs": [
    {
     "data": {
      "text/html": [
       "<div>\n",
       "<style scoped>\n",
       "    .dataframe tbody tr th:only-of-type {\n",
       "        vertical-align: middle;\n",
       "    }\n",
       "\n",
       "    .dataframe tbody tr th {\n",
       "        vertical-align: top;\n",
       "    }\n",
       "\n",
       "    .dataframe thead th {\n",
       "        text-align: right;\n",
       "    }\n",
       "</style>\n",
       "<table border=\"1\" class=\"dataframe\">\n",
       "  <thead>\n",
       "    <tr style=\"text-align: right;\">\n",
       "      <th></th>\n",
       "      <th>date</th>\n",
       "      <th>group</th>\n",
       "      <th>visit_count</th>\n",
       "      <th>number_of_purchases</th>\n",
       "      <th>purchase_sum</th>\n",
       "      <th>conversion</th>\n",
       "      <th>average_check</th>\n",
       "    </tr>\n",
       "  </thead>\n",
       "  <tbody>\n",
       "    <tr>\n",
       "      <th>0</th>\n",
       "      <td>2021-01-02</td>\n",
       "      <td>A</td>\n",
       "      <td>2854</td>\n",
       "      <td>359</td>\n",
       "      <td>29410000</td>\n",
       "      <td>12.578837</td>\n",
       "      <td>81922.005571</td>\n",
       "    </tr>\n",
       "    <tr>\n",
       "      <th>1</th>\n",
       "      <td>2021-01-02</td>\n",
       "      <td>B</td>\n",
       "      <td>2861</td>\n",
       "      <td>345</td>\n",
       "      <td>29660000</td>\n",
       "      <td>12.058721</td>\n",
       "      <td>85971.014493</td>\n",
       "    </tr>\n",
       "    <tr>\n",
       "      <th>2</th>\n",
       "      <td>2021-01-03</td>\n",
       "      <td>A</td>\n",
       "      <td>6596</td>\n",
       "      <td>748</td>\n",
       "      <td>62000000</td>\n",
       "      <td>11.340206</td>\n",
       "      <td>82887.700535</td>\n",
       "    </tr>\n",
       "    <tr>\n",
       "      <th>3</th>\n",
       "      <td>2021-01-03</td>\n",
       "      <td>B</td>\n",
       "      <td>6619</td>\n",
       "      <td>754</td>\n",
       "      <td>65960000</td>\n",
       "      <td>11.391449</td>\n",
       "      <td>87480.106101</td>\n",
       "    </tr>\n",
       "    <tr>\n",
       "      <th>4</th>\n",
       "      <td>2021-01-04</td>\n",
       "      <td>A</td>\n",
       "      <td>6566</td>\n",
       "      <td>799</td>\n",
       "      <td>64250000</td>\n",
       "      <td>12.168748</td>\n",
       "      <td>80413.016270</td>\n",
       "    </tr>\n",
       "  </tbody>\n",
       "</table>\n",
       "</div>"
      ],
      "text/plain": [
       "        date group  visit_count  number_of_purchases  purchase_sum  \\\n",
       "0 2021-01-02     A         2854                  359      29410000   \n",
       "1 2021-01-02     B         2861                  345      29660000   \n",
       "2 2021-01-03     A         6596                  748      62000000   \n",
       "3 2021-01-03     B         6619                  754      65960000   \n",
       "4 2021-01-04     A         6566                  799      64250000   \n",
       "\n",
       "   conversion  average_check  \n",
       "0   12.578837   81922.005571  \n",
       "1   12.058721   85971.014493  \n",
       "2   11.340206   82887.700535  \n",
       "3   11.391449   87480.106101  \n",
       "4   12.168748   80413.016270  "
      ]
     },
     "execution_count": 13,
     "metadata": {},
     "output_type": "execute_result"
    }
   ],
   "source": [
    "# Расчитаем конверсию и средний чек\n",
    "daily_data['conversion'] = daily_data['number_of_purchases'] / daily_data['visit_count'] * 100\n",
    "daily_data['average_check'] = daily_data['purchase_sum'] / daily_data['number_of_purchases']\n",
    "daily_data.head()"
   ]
  },
  {
   "cell_type": "code",
   "execution_count": 14,
   "metadata": {},
   "outputs": [
    {
     "data": {
      "text/html": [
       "<div>\n",
       "<style scoped>\n",
       "    .dataframe tbody tr th:only-of-type {\n",
       "        vertical-align: middle;\n",
       "    }\n",
       "\n",
       "    .dataframe tbody tr th {\n",
       "        vertical-align: top;\n",
       "    }\n",
       "\n",
       "    .dataframe thead th {\n",
       "        text-align: right;\n",
       "    }\n",
       "</style>\n",
       "<table border=\"1\" class=\"dataframe\">\n",
       "  <thead>\n",
       "    <tr style=\"text-align: right;\">\n",
       "      <th></th>\n",
       "      <th>date</th>\n",
       "      <th>group</th>\n",
       "      <th>visit_count</th>\n",
       "      <th>number_of_purchases</th>\n",
       "      <th>purchase_sum</th>\n",
       "      <th>conversion</th>\n",
       "      <th>average_check</th>\n",
       "      <th>cum_visit_count</th>\n",
       "      <th>cum_number_of_purchases</th>\n",
       "      <th>cum_purchase_sum</th>\n",
       "    </tr>\n",
       "  </thead>\n",
       "  <tbody>\n",
       "    <tr>\n",
       "      <th>0</th>\n",
       "      <td>2021-01-02</td>\n",
       "      <td>A</td>\n",
       "      <td>2854</td>\n",
       "      <td>359</td>\n",
       "      <td>29410000</td>\n",
       "      <td>12.578837</td>\n",
       "      <td>81922.005571</td>\n",
       "      <td>2854</td>\n",
       "      <td>359</td>\n",
       "      <td>29410000</td>\n",
       "    </tr>\n",
       "    <tr>\n",
       "      <th>1</th>\n",
       "      <td>2021-01-02</td>\n",
       "      <td>B</td>\n",
       "      <td>2861</td>\n",
       "      <td>345</td>\n",
       "      <td>29660000</td>\n",
       "      <td>12.058721</td>\n",
       "      <td>85971.014493</td>\n",
       "      <td>2861</td>\n",
       "      <td>345</td>\n",
       "      <td>29660000</td>\n",
       "    </tr>\n",
       "    <tr>\n",
       "      <th>2</th>\n",
       "      <td>2021-01-03</td>\n",
       "      <td>A</td>\n",
       "      <td>6596</td>\n",
       "      <td>748</td>\n",
       "      <td>62000000</td>\n",
       "      <td>11.340206</td>\n",
       "      <td>82887.700535</td>\n",
       "      <td>9450</td>\n",
       "      <td>1107</td>\n",
       "      <td>91410000</td>\n",
       "    </tr>\n",
       "    <tr>\n",
       "      <th>3</th>\n",
       "      <td>2021-01-03</td>\n",
       "      <td>B</td>\n",
       "      <td>6619</td>\n",
       "      <td>754</td>\n",
       "      <td>65960000</td>\n",
       "      <td>11.391449</td>\n",
       "      <td>87480.106101</td>\n",
       "      <td>9480</td>\n",
       "      <td>1099</td>\n",
       "      <td>95620000</td>\n",
       "    </tr>\n",
       "    <tr>\n",
       "      <th>4</th>\n",
       "      <td>2021-01-04</td>\n",
       "      <td>A</td>\n",
       "      <td>6566</td>\n",
       "      <td>799</td>\n",
       "      <td>64250000</td>\n",
       "      <td>12.168748</td>\n",
       "      <td>80413.016270</td>\n",
       "      <td>16016</td>\n",
       "      <td>1906</td>\n",
       "      <td>155660000</td>\n",
       "    </tr>\n",
       "  </tbody>\n",
       "</table>\n",
       "</div>"
      ],
      "text/plain": [
       "        date group  visit_count  number_of_purchases  purchase_sum  \\\n",
       "0 2021-01-02     A         2854                  359      29410000   \n",
       "1 2021-01-02     B         2861                  345      29660000   \n",
       "2 2021-01-03     A         6596                  748      62000000   \n",
       "3 2021-01-03     B         6619                  754      65960000   \n",
       "4 2021-01-04     A         6566                  799      64250000   \n",
       "\n",
       "   conversion  average_check  cum_visit_count  cum_number_of_purchases  \\\n",
       "0   12.578837   81922.005571             2854                      359   \n",
       "1   12.058721   85971.014493             2861                      345   \n",
       "2   11.340206   82887.700535             9450                     1107   \n",
       "3   11.391449   87480.106101             9480                     1099   \n",
       "4   12.168748   80413.016270            16016                     1906   \n",
       "\n",
       "   cum_purchase_sum  \n",
       "0          29410000  \n",
       "1          29660000  \n",
       "2          91410000  \n",
       "3          95620000  \n",
       "4         155660000  "
      ]
     },
     "execution_count": 14,
     "metadata": {},
     "output_type": "execute_result"
    }
   ],
   "source": [
    "# Расчитаем кумулятивные метрики\n",
    "\n",
    "# кумулятивное количество посещений страницы\n",
    "daily_data['cum_visit_count'] = daily_data.groupby(['group'])['visit_count'].cumsum()\n",
    "\n",
    "# кумулятивное количество покупок\n",
    "daily_data['cum_number_of_purchases'] = daily_data.groupby(['group'])['number_of_purchases'].cumsum()\n",
    "\n",
    "# кумулятивная сумма покупок\n",
    "daily_data['cum_purchase_sum'] = daily_data.groupby(['group'])['purchase_sum'].cumsum()\n",
    "\n",
    "daily_data.head()"
   ]
  },
  {
   "cell_type": "code",
   "execution_count": 15,
   "metadata": {},
   "outputs": [
    {
     "data": {
      "text/html": [
       "<div>\n",
       "<style scoped>\n",
       "    .dataframe tbody tr th:only-of-type {\n",
       "        vertical-align: middle;\n",
       "    }\n",
       "\n",
       "    .dataframe tbody tr th {\n",
       "        vertical-align: top;\n",
       "    }\n",
       "\n",
       "    .dataframe thead th {\n",
       "        text-align: right;\n",
       "    }\n",
       "</style>\n",
       "<table border=\"1\" class=\"dataframe\">\n",
       "  <thead>\n",
       "    <tr style=\"text-align: right;\">\n",
       "      <th></th>\n",
       "      <th>date</th>\n",
       "      <th>group</th>\n",
       "      <th>visit_count</th>\n",
       "      <th>number_of_purchases</th>\n",
       "      <th>purchase_sum</th>\n",
       "      <th>conversion</th>\n",
       "      <th>average_check</th>\n",
       "      <th>cum_visit_count</th>\n",
       "      <th>cum_number_of_purchases</th>\n",
       "      <th>cum_purchase_sum</th>\n",
       "      <th>cum_conversion</th>\n",
       "      <th>cum_average_check</th>\n",
       "    </tr>\n",
       "  </thead>\n",
       "  <tbody>\n",
       "    <tr>\n",
       "      <th>0</th>\n",
       "      <td>2021-01-02</td>\n",
       "      <td>A</td>\n",
       "      <td>2854</td>\n",
       "      <td>359</td>\n",
       "      <td>29410000</td>\n",
       "      <td>12.578837</td>\n",
       "      <td>81922.005571</td>\n",
       "      <td>2854</td>\n",
       "      <td>359</td>\n",
       "      <td>29410000</td>\n",
       "      <td>12.578837</td>\n",
       "      <td>81922.005571</td>\n",
       "    </tr>\n",
       "    <tr>\n",
       "      <th>1</th>\n",
       "      <td>2021-01-02</td>\n",
       "      <td>B</td>\n",
       "      <td>2861</td>\n",
       "      <td>345</td>\n",
       "      <td>29660000</td>\n",
       "      <td>12.058721</td>\n",
       "      <td>85971.014493</td>\n",
       "      <td>2861</td>\n",
       "      <td>345</td>\n",
       "      <td>29660000</td>\n",
       "      <td>12.058721</td>\n",
       "      <td>85971.014493</td>\n",
       "    </tr>\n",
       "    <tr>\n",
       "      <th>2</th>\n",
       "      <td>2021-01-03</td>\n",
       "      <td>A</td>\n",
       "      <td>6596</td>\n",
       "      <td>748</td>\n",
       "      <td>62000000</td>\n",
       "      <td>11.340206</td>\n",
       "      <td>82887.700535</td>\n",
       "      <td>9450</td>\n",
       "      <td>1107</td>\n",
       "      <td>91410000</td>\n",
       "      <td>11.714286</td>\n",
       "      <td>82574.525745</td>\n",
       "    </tr>\n",
       "    <tr>\n",
       "      <th>3</th>\n",
       "      <td>2021-01-03</td>\n",
       "      <td>B</td>\n",
       "      <td>6619</td>\n",
       "      <td>754</td>\n",
       "      <td>65960000</td>\n",
       "      <td>11.391449</td>\n",
       "      <td>87480.106101</td>\n",
       "      <td>9480</td>\n",
       "      <td>1099</td>\n",
       "      <td>95620000</td>\n",
       "      <td>11.592827</td>\n",
       "      <td>87006.369427</td>\n",
       "    </tr>\n",
       "    <tr>\n",
       "      <th>4</th>\n",
       "      <td>2021-01-04</td>\n",
       "      <td>A</td>\n",
       "      <td>6566</td>\n",
       "      <td>799</td>\n",
       "      <td>64250000</td>\n",
       "      <td>12.168748</td>\n",
       "      <td>80413.016270</td>\n",
       "      <td>16016</td>\n",
       "      <td>1906</td>\n",
       "      <td>155660000</td>\n",
       "      <td>11.900599</td>\n",
       "      <td>81668.415530</td>\n",
       "    </tr>\n",
       "  </tbody>\n",
       "</table>\n",
       "</div>"
      ],
      "text/plain": [
       "        date group  visit_count  number_of_purchases  purchase_sum  \\\n",
       "0 2021-01-02     A         2854                  359      29410000   \n",
       "1 2021-01-02     B         2861                  345      29660000   \n",
       "2 2021-01-03     A         6596                  748      62000000   \n",
       "3 2021-01-03     B         6619                  754      65960000   \n",
       "4 2021-01-04     A         6566                  799      64250000   \n",
       "\n",
       "   conversion  average_check  cum_visit_count  cum_number_of_purchases  \\\n",
       "0   12.578837   81922.005571             2854                      359   \n",
       "1   12.058721   85971.014493             2861                      345   \n",
       "2   11.340206   82887.700535             9450                     1107   \n",
       "3   11.391449   87480.106101             9480                     1099   \n",
       "4   12.168748   80413.016270            16016                     1906   \n",
       "\n",
       "   cum_purchase_sum  cum_conversion  cum_average_check  \n",
       "0          29410000       12.578837       81922.005571  \n",
       "1          29660000       12.058721       85971.014493  \n",
       "2          91410000       11.714286       82574.525745  \n",
       "3          95620000       11.592827       87006.369427  \n",
       "4         155660000       11.900599       81668.415530  "
      ]
     },
     "execution_count": 15,
     "metadata": {},
     "output_type": "execute_result"
    }
   ],
   "source": [
    "# вычислим кумулятивную конверсию и кумулятивный средний чек\n",
    "daily_data['cum_conversion'] = daily_data['cum_number_of_purchases'] / daily_data['cum_visit_count'] * 100\n",
    "daily_data['cum_average_check'] = daily_data['cum_purchase_sum'] / daily_data['cum_number_of_purchases']\n",
    "\n",
    "daily_data.head()"
   ]
  },
  {
   "cell_type": "code",
   "execution_count": 16,
   "metadata": {},
   "outputs": [
    {
     "data": {
      "image/png": "[encoded data removed]",
      "text/plain": [
       "<Figure size 800x400 with 1 Axes>"
      ]
     },
     "metadata": {},
     "output_type": "display_data"
    }
   ],
   "source": [
    "# Построим кумулятивный график конверсии\n",
    "\n",
    "fig = plt.figure(figsize=(8, 4))\n",
    "ax = fig.add_axes([1, 1, 1, 1])\n",
    "sns.lineplot(x='date', y='cum_conversion', data=daily_data, hue='group', ax=ax)\n",
    "ax.set_title('График кумулятивной конверсии по дням')\n",
    "ax.set_xlabel('Дата')\n",
    "ax.set_ylabel('Конверсия, %')\n",
    "ax.xaxis.set_tick_params(rotation = 45)\n",
    "ax.grid(True);"
   ]
  },
  {
   "cell_type": "code",
   "execution_count": 17,
   "metadata": {},
   "outputs": [
    {
     "data": {
      "image/png": "[encoded data removed]",
      "text/plain": [
       "<Figure size 800x400 with 1 Axes>"
      ]
     },
     "metadata": {},
     "output_type": "display_data"
    }
   ],
   "source": [
    "# Построим кумулятивный график среднего чека\n",
    "\n",
    "fig = plt.figure(figsize=(8, 4))\n",
    "ax = fig.add_axes([1, 1, 1, 1])\n",
    "sns.lineplot(x='date', y='cum_average_check', data=daily_data, hue='group', ax=ax)\n",
    "ax.set_title('Кумулятивный график среднего чека по дням')\n",
    "ax.set_xlabel('Дата')\n",
    "ax.set_ylabel('Средний чек')\n",
    "ax.xaxis.set_tick_params(rotation = 45)\n",
    "ax.grid(True);"
   ]
  },
  {
   "cell_type": "markdown",
   "metadata": {},
   "source": [
    "Значения метрик стабилизировались.  \n",
    "Судя по графику кумулятивной конверсии, сначала конверсия была нестабильна, но после 11.01.2021 она выравнивается. И конверсия по группе В становися стабильно ниже чем по группе А. \n",
    "При этом график кумулятивного среднего чека показывает, что по группе В средний чек, стабильно выше на всем промежутке времени.\n",
    "\n",
    "Для окончания A/B-тестирования, нам осталось провести статистический анализ результатов A/B-тестирования."
   ]
  },
  {
   "cell_type": "markdown",
   "metadata": {},
   "source": [
    "### Задание 4.\n",
    "\n",
    "Проведите статистический анализ результатов A/B-тестирования:\n",
    "- Сформулируйте статистические гипотезы, соответствующие поставленным бизнес-вопросам, и выберите статистический тест для их проверки.  \n",
    "Не забудьте проверить данные на нормальность там, где это необходимо.  \n",
    "- С помощью аппарата статистических тестов определите:\n",
    "    - Есть ли статистическая разница между конверсиями в группах А и B?\n",
    "    - Есть ли статистическая разница между ежедневными средними чеками в группах А и B?  \n",
    "- Подкрепите результаты статистических тестов, построив 95 % доверительные интервалы для:\n",
    "    - конверсий в каждой из групп;\n",
    "    - разницы конверсий в группах;\n",
    "     -ежедневного среднего чека в каждой из групп.\n",
    "- Проинтерпретируйте построенные доверительные интервалы для конверсий и ежедневного среднего чека в группах. Есть ли перекрытие между доверительными интервалами для групп? Если есть, то о чём это говорит?"
   ]
  },
  {
   "cell_type": "markdown",
   "metadata": {},
   "source": [
    "Выдвитем следующие гипотезы:\n",
    "- Нулевая (отсутствие эффекта): конверсии в обеих группа равны $H_0:p_a = p_b$\n",
    "- Альтернативная (наличие эффекта): конверсии в группах не равны $H_1:p_a \\neq p_b$"
   ]
  },
  {
   "cell_type": "code",
   "execution_count": 18,
   "metadata": {},
   "outputs": [
    {
     "data": {
      "text/html": [
       "<div>\n",
       "<style scoped>\n",
       "    .dataframe tbody tr th:only-of-type {\n",
       "        vertical-align: middle;\n",
       "    }\n",
       "\n",
       "    .dataframe tbody tr th {\n",
       "        vertical-align: top;\n",
       "    }\n",
       "\n",
       "    .dataframe thead th {\n",
       "        text-align: right;\n",
       "    }\n",
       "</style>\n",
       "<table border=\"1\" class=\"dataframe\">\n",
       "  <thead>\n",
       "    <tr style=\"text-align: right;\">\n",
       "      <th></th>\n",
       "      <th>sum</th>\n",
       "      <th>count</th>\n",
       "    </tr>\n",
       "    <tr>\n",
       "      <th>group</th>\n",
       "      <th></th>\n",
       "      <th></th>\n",
       "    </tr>\n",
       "  </thead>\n",
       "  <tbody>\n",
       "    <tr>\n",
       "      <th>A</th>\n",
       "      <td>17487</td>\n",
       "      <td>145307</td>\n",
       "    </tr>\n",
       "    <tr>\n",
       "      <th>B</th>\n",
       "      <td>17290</td>\n",
       "      <td>145381</td>\n",
       "    </tr>\n",
       "  </tbody>\n",
       "</table>\n",
       "</div>"
      ],
      "text/plain": [
       "         sum   count\n",
       "group               \n",
       "A      17487  145307\n",
       "B      17290  145381"
      ]
     },
     "execution_count": 18,
     "metadata": {},
     "output_type": "execute_result"
    }
   ],
   "source": [
    "# построим вспомогательную таблицу\n",
    "conversion_piv= data.groupby('group')['purchase'].agg(\n",
    "    ['sum', 'count']\n",
    ")\n",
    "\n",
    "conversion_piv"
   ]
  },
  {
   "cell_type": "code",
   "execution_count": 19,
   "metadata": {},
   "outputs": [
    {
     "name": "stdout",
     "output_type": "stream",
     "text": [
      "p-value:  0.239\n",
      "У нас нет оснований отвергнуть нулевую гипотезу\n"
     ]
    }
   ],
   "source": [
    "alpha = 0.05 # уровень значимости\n",
    "# вычисляем значение p-value для z-теста для пропорций\n",
    "_, p_value = proportions_ztest(\n",
    "    count=conversion_piv['sum'], #число «успехов»\n",
    "    nobs=conversion_piv['count'], #общее число наблюдений\n",
    "    alternative='two-sided',\n",
    ")\n",
    "# выводим результат на экран\n",
    "print('p-value: ', round(p_value, 3))\n",
    "# сравниваем полученное p-value с уровнем значимости\n",
    "if (p_value <= alpha):\n",
    "    print(\"Отвергаем нулевую гипотезу в пользу альтернативной\")\n",
    "else:\n",
    "    print(\"У нас нет оснований отвергнуть нулевую гипотезу\")"
   ]
  },
  {
   "cell_type": "markdown",
   "metadata": {},
   "source": [
    "Так как Z-тест для пропорций показал, что истинные значения конверсий в группах равны (с уровнем значимости 0.05), то для нас это значит, что альтернативная гипотеза не подтверждается статистически.\n",
    "\n",
    "Соответственно, разницы между вариантами посадочной страницы нет — они одинаковы по метрике конверсии."
   ]
  },
  {
   "cell_type": "markdown",
   "metadata": {},
   "source": [
    "Теперь давайте воспользуемся $\\chi^2$ -тестом для оценки разницы в пропорциях.\n",
    "\n",
    "Выдвинем следующие гипотезы:\n",
    "- Нулевая (отсутствие эффекта): конверсии в группах A и B равны. $H_0:p_a = p_b$\n",
    "- Альтернативная (наличие эффекта): конверсии в группах A и B не равны. $H_1:p_a \\neq p_b$"
   ]
  },
  {
   "cell_type": "code",
   "execution_count": 20,
   "metadata": {},
   "outputs": [
    {
     "name": "stdout",
     "output_type": "stream",
     "text": [
      "p-value:  0.239\n",
      "У нас нет оснований отвергнуть нулевую гипотезу\n"
     ]
    }
   ],
   "source": [
    "# вычисляем значение p-value для Z-теста для пропорций\n",
    "_, p_value, c = proportions_chisquare(\n",
    "    count=conversion_piv['sum'], #число «успехов»\n",
    "    nobs=conversion_piv['count'] #общее число наблюдений\n",
    ")\n",
    "# выводим результат\n",
    "print('p-value: ', round(p_value, 3))\n",
    "# сравниваем полученное p-value с уровнем значимости\n",
    "if (p_value <= alpha):\n",
    "    print(\"Отвергаем нулевую гипотезу в пользу альтернативной\")\n",
    "else:\n",
    "    print(\"У нас нет оснований отвергнуть нулевую гипотезу\")"
   ]
  },
  {
   "cell_type": "markdown",
   "metadata": {},
   "source": [
    "$\\chi^2$-тест показал тот же результат, что и Z-тест. По метрике конверсии посадочные страницы одинаковы."
   ]
  },
  {
   "cell_type": "markdown",
   "metadata": {},
   "source": [
    "Теперь проведем статистический тест для показателя средний чек."
   ]
  },
  {
   "cell_type": "code",
   "execution_count": 21,
   "metadata": {},
   "outputs": [
    {
     "data": {
      "image/png": "[encoded data removed]",
      "text/plain": [
       "<Figure size 1200x400 with 2 Axes>"
      ]
     },
     "metadata": {},
     "output_type": "display_data"
    }
   ],
   "source": [
    "# Построим гистограмму ежедневного среднего чека в каждой из групп:\n",
    "\n",
    "fig, axes = plt.subplots(1, 2, figsize=(12, 4))\n",
    "\n",
    "sns.histplot(x='average_check', data=daily_data[daily_data['group'] == 'A'], ax=axes[0])\n",
    "sns.histplot(x='average_check', data=daily_data[daily_data['group'] == 'B'], ax=axes[1])\n",
    "\n",
    "axes[0].set_title('Ежедневный средний чек в группе А')\n",
    "axes[1].set_title('Ежедневный средний чек в группе B');"
   ]
  },
  {
   "cell_type": "markdown",
   "metadata": {},
   "source": [
    "Гистограммы напоминают нормальное распределение. Проверим это с помощью теста Шапиро — Уилка.\n",
    "\n",
    "При уровне значимости $\\alpha=0.05$ и проверим гипотезу о нормальности каждого из распределений (нулевая гипотеза — распределение нормальное, альтернативная — распределение отлично от нормального):"
   ]
  },
  {
   "cell_type": "code",
   "execution_count": 22,
   "metadata": {},
   "outputs": [
    {
     "name": "stdout",
     "output_type": "stream",
     "text": [
      "p-value группы А 0.25\n",
      "p-value группы B 0.09\n",
      "Принимаем нулевую гипотезу. Распределение в группе А является нормальным\n",
      "Принимаем нулевую гипотезу. Распределение в группе B является нормальным\n"
     ]
    }
   ],
   "source": [
    "# вычисляем результат теста Шапиро — Уилка для выборок\n",
    "shapiro_result_a = shapiro(daily_data[daily_data['group'] == 'A']['average_check'])\n",
    "shapiro_result_b = shapiro(daily_data[daily_data['group'] == 'B']['average_check'])\n",
    "print('p-value группы А', round(shapiro_result_a.pvalue, 2))\n",
    "print('p-value группы B', round(shapiro_result_b.pvalue, 2))\n",
    "\n",
    "# сравниваем полученное p-value для группы А с уровнем значимости\n",
    "if shapiro_result_a.pvalue <= alpha:\n",
    "    print(\"Отвергаем нулевую гипотезу в пользу альтернативной. Распределение в группе А отлично от нормального\")\n",
    "else:\n",
    "    print(\"Принимаем нулевую гипотезу. Распределение в группе А является нормальным\")\n",
    "\n",
    "# сравниваем полученное p-value для группы B с уровнем значимости\n",
    "if shapiro_result_b.pvalue <= alpha:\n",
    "    print(\"Отвергаем нулевую гипотезу в пользу альтернативной. Распределение в группе B отлично от нормального\")\n",
    "else:\n",
    "    print(\"Принимаем нулевую гипотезу. Распределение в группе B является нормальным\")"
   ]
  },
  {
   "cell_type": "markdown",
   "metadata": {},
   "source": [
    "Распределение в обеих группах нормальное, а значит, мы можем воспользоваться T-тестом, чтобы сравнить средний чек в группах."
   ]
  },
  {
   "cell_type": "markdown",
   "metadata": {},
   "source": [
    "Выдвигаем следующие статистические гипотезы:\n",
    "- Нулевая. Средний чек посетителей посадочной страницы A, больше либо равен среднему чеку посетителей посадочной страницы B.  \n",
    "$H_0:\\mu_a\\geq \\mu_b$  \n",
    "\n",
    "- Альтернативная. Средний чек посетителей посадочной страницы A, меньше среднего чека посетителей посадочной страницы B.  \n",
    "$H_1:\\mu_a<\\mu_b$"
   ]
  },
  {
   "cell_type": "code",
   "execution_count": 23,
   "metadata": {},
   "outputs": [
    {
     "name": "stdout",
     "output_type": "stream",
     "text": [
      "p-value: 0.0\n",
      "Отвергаем нулевую гипотезу в пользу альтернативной\n"
     ]
    }
   ],
   "source": [
    "results = ttest_ind(\n",
    "    a=daily_data[daily_data['group'] == 'A']['average_check'],\n",
    "    b=daily_data[daily_data['group'] == 'B']['average_check'],\n",
    "    alternative='less'\n",
    ")\n",
    "print('p-value:', round(results.pvalue, 2))\n",
    "\n",
    "# сравниваем полученное p-value с уровнем значимости\n",
    "if results.pvalue <= alpha:\n",
    "    print(\"Отвергаем нулевую гипотезу в пользу альтернативной\")\n",
    "else:\n",
    "    print(\"У нас нет оснований отвергнуть нулевую гипотезу\")"
   ]
  },
  {
   "cell_type": "markdown",
   "metadata": {},
   "source": [
    "Отсюда следует, что средний чек посетителей посадочной страницы в группе B выше, чем средний чек посетителей посадочной страницы в группе A."
   ]
  },
  {
   "cell_type": "markdown",
   "metadata": {},
   "source": [
    "Построим 95 % доверительный интервалы для конверсий в каждой из групп"
   ]
  },
  {
   "cell_type": "code",
   "execution_count": 24,
   "metadata": {},
   "outputs": [
    {
     "name": "stdout",
     "output_type": "stream",
     "text": [
      "Доверительный интервал для конверсии в группе А: (11.87, 12.2)\n",
      "Доверительный интервал для конверсии в группе B: (11.73, 12.06)\n"
     ]
    }
   ],
   "source": [
    "# вычисляем доверительный интервал для конверсии в группе A с уровнем доверия 0.95\n",
    "lower_bound_a, upper_bound_a = proportion.proportion_confint(\n",
    "    count=data[data['group'] == 'A']['purchase'].sum(),\n",
    "    nobs=data[data['group'] == 'A']['user_id'].count(),\n",
    "    alpha=0.05\n",
    ")\n",
    "\n",
    "# вычисляем доверительный интервал для конверсии в группе B с уровнем доверия 0.95\n",
    "lower_bound_b, upper_bound_b = proportion.proportion_confint(\n",
    "    count=data[data['group'] == 'B']['purchase'].sum(),\n",
    "    nobs=data[data['group'] == 'B']['user_id'].count(),\n",
    "    alpha=0.05\n",
    ")\n",
    "# выводим результат\n",
    "print('Доверительный интервал для конверсии в группе А: {}'.format((round(lower_bound_a * 100, 2), round(upper_bound_a * 100, 2))))\n",
    "print('Доверительный интервал для конверсии в группе B: {}'.format((round(lower_bound_b * 100, 2), round(upper_bound_b * 100, 2))))"
   ]
  },
  {
   "cell_type": "markdown",
   "metadata": {},
   "source": [
    "Построим 95% доверительный интервал для разницы конверсий в группах"
   ]
  },
  {
   "cell_type": "code",
   "execution_count": 25,
   "metadata": {},
   "outputs": [],
   "source": [
    "def diff_proportion_conf_interval(x_p, n, gamma=0.95):\n",
    "    alpha = 1 - gamma # уровень значимости\n",
    "    diff = x_p[1] - x_p[0] # выборочная разница конверсий групп B и A\n",
    "    z_crit = -norm.ppf(alpha/2) #z-критическое\n",
    "    eps = z_crit * (x_p[0] * (1 - x_p[0])/n[0] + x_p[1] * (1 - x_p[1])/n[1]) ** 0.5 # погрешность\n",
    "    lower_bound = diff - eps # левая (нижняя) граница\n",
    "    upper_bound = diff + eps # правая (верхняя) граница\n",
    "    # возвращаем кортеж из  границ интервала\n",
    "    return lower_bound, upper_bound"
   ]
  },
  {
   "cell_type": "code",
   "execution_count": 26,
   "metadata": {},
   "outputs": [
    {
     "name": "stdout",
     "output_type": "stream",
     "text": [
      "Доверительный интервал для разности конверсий: (-0.38, 0.09)\n"
     ]
    }
   ],
   "source": [
    "# размеры выборок групп А и B\n",
    "n = [data[data['group'] == 'A']['user_id'].count(), data[data['group'] == 'B']['user_id'].count()]\n",
    "# выборочная пропорция групп A и B\n",
    "x_p = [data[data['group'] == 'A']['purchase'].mean(), data[data['group'] == 'B']['purchase'].mean()]\n",
    "\n",
    "\n",
    "# строим доверительный интервал для разности пропорций\n",
    "lower_bound, upper_bound = diff_proportion_conf_interval(x_p=x_p, n=n)\n",
    "\n",
    "# выводим результат\n",
    "print('Доверительный интервал для разности конверсий: {}'.format((round(lower_bound*100, 2), round(upper_bound*100, 2))))"
   ]
  },
  {
   "cell_type": "markdown",
   "metadata": {},
   "source": [
    "Построенный доверительный интервал с 95 %-ой надёжностью говорит нам, что разница в конверсии между вариантом B и вариантом А лежит в интервале от -0.38 % до 0.09 %.  \n",
    "Отсюда можно сделать вывод, что статистической разницы в конверсии между вариантами А и B не существует, то есть они являются равнозначными по данной метрике."
   ]
  },
  {
   "cell_type": "markdown",
   "metadata": {},
   "source": [
    "Построим 95% доверительный интервал для ежедневного среднего чека в каждой из групп"
   ]
  },
  {
   "cell_type": "code",
   "execution_count": 27,
   "metadata": {},
   "outputs": [
    {
     "name": "stdout",
     "output_type": "stream",
     "text": [
      "Доверительный интервал ежедневного среднего чека в группе A: (79630, 82308)\n",
      "Доверительный интервал ежедневного среднего чека в группе B: (87626, 89526)\n"
     ]
    }
   ],
   "source": [
    "# уровень надёжности\n",
    "gamma=0.95\n",
    "\n",
    "# размер выборки\n",
    "n_a = daily_data[daily_data['group'] == 'A'].shape[0]\n",
    "n_b = daily_data[daily_data['group'] == 'B'].shape[0]\n",
    "\n",
    "# число степеней свободы\n",
    "k_a = n_a - 1\n",
    "k_b = n_b - 1\n",
    "\n",
    "# выборочное среднее\n",
    "x_mean_a = daily_data[daily_data['group'] == 'A']['average_check'].mean()\n",
    "x_mean_b = daily_data[daily_data['group'] == 'B']['average_check'].mean()\n",
    "\n",
    "# выборочное стандартное отклонение\n",
    "x_std_a = daily_data[daily_data['group'] == 'A']['average_check'].std()\n",
    "x_std_b = daily_data[daily_data['group'] == 'B']['average_check'].std()\n",
    "\n",
    "lower_bound_a, upper_bound_a = t.interval(gamma, df=k_a, loc=x_mean_a, scale=x_std_a/(n_a ** 0.5))\n",
    "lower_bound_b, upper_bound_b = t.interval(gamma, df=k_b, loc=x_mean_b, scale=x_std_b/(n_b ** 0.5))\n",
    "\n",
    "print('Доверительный интервал ежедневного среднего чека в группе A: {}'.format((round(lower_bound_a), round(upper_bound_a))))\n",
    "print('Доверительный интервал ежедневного среднего чека в группе B: {}'.format((round(lower_bound_b), round(upper_bound_b))))"
   ]
  },
  {
   "cell_type": "markdown",
   "metadata": {},
   "source": [
    "Построенные доверительные интервалы показывают, что в группе А средний чек с 95% надежностью попадет в промежуток между 79630 и 82308, а в группе B между 87626 и 89526.  \n",
    "Перекрытия между интервалами нет, по показателю средний чек вариант посадочной страницы B лучше."
   ]
  },
  {
   "cell_type": "markdown",
   "metadata": {},
   "source": [
    "По результатам A/B-тестирования, можно сделать вывод о том, что для сайта турагенства, вариант дизайна посадочной страницы B более эффективен. Так как при той же конверсии, вырос ежедневный средний чек."
   ]
  }
 ],
 "metadata": {
  "kernelspec": {
   "display_name": "Python 3",
   "language": "python",
   "name": "python3"
  },
  "language_info": {
   "codemirror_mode": {
    "name": "ipython",
    "version": 3
   },
   "file_extension": ".py",
   "mimetype": "text/x-python",
   "name": "python",
   "nbconvert_exporter": "python",
   "pygments_lexer": "ipython3",
   "version": "3.11.2"
  }
 },
 "nbformat": 4,
 "nbformat_minor": 2
}
