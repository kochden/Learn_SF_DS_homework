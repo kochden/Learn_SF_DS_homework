{
 "cells": [
  {
   "cell_type": "markdown",
   "metadata": {},
   "source": [
    "### ML-7. Прогнозирование биологического ответа (HW-3)\n",
    "В поле ниже введите ссылку на выполненное задание. \n",
    "\n",
    "КРИТЕРИИ ОЦЕНКИ\n",
    "\n",
    "Балл|Критерий\n",
    "-|-\n",
    "0|Задание не выполнено\n",
    "1|Обучено две модели; гипепараметры подобраны при помощи одного метода\n",
    "2|Обучено две модели; гипепараметры подобраны при помощи двух методов\n",
    "3|Обучено две модели; гипепараметры подобраны при помощи трёх методов\n",
    "4|Обучено две модели; гипепараметры подобраны при помощи четырёх методов\n",
    "5|Обучено две модели; гипепараметры подобраны при помощи четырёх методов; использована кросс-валидация"
   ]
  },
  {
   "cell_type": "code",
   "execution_count": 1,
   "metadata": {},
   "outputs": [
    {
     "name": "stderr",
     "output_type": "stream",
     "text": [
      "c:\\Python\\Lib\\site-packages\\tqdm\\auto.py:21: TqdmWarning: IProgress not found. Please update jupyter and ipywidgets. See https://ipywidgets.readthedocs.io/en/stable/user_install.html\n",
      "  from .autonotebook import tqdm as notebook_tqdm\n"
     ]
    }
   ],
   "source": [
    "#импорт библиотек\n",
    "import numpy as np #для матричных вычислений\n",
    "import pandas as pd #для анализа и предобработки данных\n",
    "import matplotlib.pyplot as plt #для визуализации\n",
    "import seaborn as sns #для визуализации\n",
    "\n",
    "from sklearn import linear_model #линейные моделиё\n",
    "from sklearn import tree #деревья решений\n",
    "from sklearn import ensemble #ансамбли\n",
    "from sklearn import metrics #метрики\n",
    "#from sklearn import preprocessing #предобработка\n",
    "from sklearn.model_selection import train_test_split #сплитование выборки\n",
    "\n",
    "from sklearn.model_selection import GridSearchCV\n",
    "from sklearn.model_selection import RandomizedSearchCV\n",
    "\n",
    "from sklearn.model_selection import cross_val_score\n",
    "import hyperopt\n",
    "from hyperopt import hp, fmin, tpe, Trials\n",
    "\n",
    "import optuna"
   ]
  },
  {
   "cell_type": "code",
   "execution_count": 2,
   "metadata": {},
   "outputs": [],
   "source": [
    "# загрузим датасет\n",
    "url = 'https://lms-cdn.skillfactory.ru/assets/courseware/v1/9f2add5bca59f8c4df927432d605fff3/asset-v1:SkillFactory+DST-3.0+28FEB2021+type@asset+block/_train_sem09__1_.zip'\n",
    "data = pd.read_csv(url)"
   ]
  },
  {
   "cell_type": "code",
   "execution_count": 3,
   "metadata": {},
   "outputs": [
    {
     "data": {
      "text/html": [
       "<div>\n",
       "<style scoped>\n",
       "    .dataframe tbody tr th:only-of-type {\n",
       "        vertical-align: middle;\n",
       "    }\n",
       "\n",
       "    .dataframe tbody tr th {\n",
       "        vertical-align: top;\n",
       "    }\n",
       "\n",
       "    .dataframe thead th {\n",
       "        text-align: right;\n",
       "    }\n",
       "</style>\n",
       "<table border=\"1\" class=\"dataframe\">\n",
       "  <thead>\n",
       "    <tr style=\"text-align: right;\">\n",
       "      <th></th>\n",
       "      <th>Activity</th>\n",
       "      <th>D1</th>\n",
       "      <th>D2</th>\n",
       "      <th>D3</th>\n",
       "      <th>D4</th>\n",
       "      <th>D5</th>\n",
       "      <th>D6</th>\n",
       "      <th>D7</th>\n",
       "      <th>D8</th>\n",
       "      <th>D9</th>\n",
       "      <th>...</th>\n",
       "      <th>D1767</th>\n",
       "      <th>D1768</th>\n",
       "      <th>D1769</th>\n",
       "      <th>D1770</th>\n",
       "      <th>D1771</th>\n",
       "      <th>D1772</th>\n",
       "      <th>D1773</th>\n",
       "      <th>D1774</th>\n",
       "      <th>D1775</th>\n",
       "      <th>D1776</th>\n",
       "    </tr>\n",
       "  </thead>\n",
       "  <tbody>\n",
       "    <tr>\n",
       "      <th>0</th>\n",
       "      <td>1</td>\n",
       "      <td>0.000000</td>\n",
       "      <td>0.497009</td>\n",
       "      <td>0.10</td>\n",
       "      <td>0.0</td>\n",
       "      <td>0.132956</td>\n",
       "      <td>0.678031</td>\n",
       "      <td>0.273166</td>\n",
       "      <td>0.585445</td>\n",
       "      <td>0.743663</td>\n",
       "      <td>...</td>\n",
       "      <td>0</td>\n",
       "      <td>0</td>\n",
       "      <td>0</td>\n",
       "      <td>0</td>\n",
       "      <td>0</td>\n",
       "      <td>0</td>\n",
       "      <td>0</td>\n",
       "      <td>0</td>\n",
       "      <td>0</td>\n",
       "      <td>0</td>\n",
       "    </tr>\n",
       "    <tr>\n",
       "      <th>1</th>\n",
       "      <td>1</td>\n",
       "      <td>0.366667</td>\n",
       "      <td>0.606291</td>\n",
       "      <td>0.05</td>\n",
       "      <td>0.0</td>\n",
       "      <td>0.111209</td>\n",
       "      <td>0.803455</td>\n",
       "      <td>0.106105</td>\n",
       "      <td>0.411754</td>\n",
       "      <td>0.836582</td>\n",
       "      <td>...</td>\n",
       "      <td>1</td>\n",
       "      <td>1</td>\n",
       "      <td>1</td>\n",
       "      <td>1</td>\n",
       "      <td>0</td>\n",
       "      <td>1</td>\n",
       "      <td>0</td>\n",
       "      <td>0</td>\n",
       "      <td>1</td>\n",
       "      <td>0</td>\n",
       "    </tr>\n",
       "    <tr>\n",
       "      <th>2</th>\n",
       "      <td>1</td>\n",
       "      <td>0.033300</td>\n",
       "      <td>0.480124</td>\n",
       "      <td>0.00</td>\n",
       "      <td>0.0</td>\n",
       "      <td>0.209791</td>\n",
       "      <td>0.610350</td>\n",
       "      <td>0.356453</td>\n",
       "      <td>0.517720</td>\n",
       "      <td>0.679051</td>\n",
       "      <td>...</td>\n",
       "      <td>0</td>\n",
       "      <td>0</td>\n",
       "      <td>0</td>\n",
       "      <td>0</td>\n",
       "      <td>0</td>\n",
       "      <td>0</td>\n",
       "      <td>0</td>\n",
       "      <td>0</td>\n",
       "      <td>0</td>\n",
       "      <td>0</td>\n",
       "    </tr>\n",
       "    <tr>\n",
       "      <th>3</th>\n",
       "      <td>1</td>\n",
       "      <td>0.000000</td>\n",
       "      <td>0.538825</td>\n",
       "      <td>0.00</td>\n",
       "      <td>0.5</td>\n",
       "      <td>0.196344</td>\n",
       "      <td>0.724230</td>\n",
       "      <td>0.235606</td>\n",
       "      <td>0.288764</td>\n",
       "      <td>0.805110</td>\n",
       "      <td>...</td>\n",
       "      <td>0</td>\n",
       "      <td>0</td>\n",
       "      <td>0</td>\n",
       "      <td>0</td>\n",
       "      <td>0</td>\n",
       "      <td>0</td>\n",
       "      <td>0</td>\n",
       "      <td>0</td>\n",
       "      <td>0</td>\n",
       "      <td>0</td>\n",
       "    </tr>\n",
       "    <tr>\n",
       "      <th>4</th>\n",
       "      <td>0</td>\n",
       "      <td>0.100000</td>\n",
       "      <td>0.517794</td>\n",
       "      <td>0.00</td>\n",
       "      <td>0.0</td>\n",
       "      <td>0.494734</td>\n",
       "      <td>0.781422</td>\n",
       "      <td>0.154361</td>\n",
       "      <td>0.303809</td>\n",
       "      <td>0.812646</td>\n",
       "      <td>...</td>\n",
       "      <td>0</td>\n",
       "      <td>0</td>\n",
       "      <td>0</td>\n",
       "      <td>0</td>\n",
       "      <td>0</td>\n",
       "      <td>0</td>\n",
       "      <td>0</td>\n",
       "      <td>0</td>\n",
       "      <td>0</td>\n",
       "      <td>0</td>\n",
       "    </tr>\n",
       "  </tbody>\n",
       "</table>\n",
       "<p>5 rows × 1777 columns</p>\n",
       "</div>"
      ],
      "text/plain": [
       "   Activity        D1        D2    D3   D4        D5        D6        D7  \\\n",
       "0         1  0.000000  0.497009  0.10  0.0  0.132956  0.678031  0.273166   \n",
       "1         1  0.366667  0.606291  0.05  0.0  0.111209  0.803455  0.106105   \n",
       "2         1  0.033300  0.480124  0.00  0.0  0.209791  0.610350  0.356453   \n",
       "3         1  0.000000  0.538825  0.00  0.5  0.196344  0.724230  0.235606   \n",
       "4         0  0.100000  0.517794  0.00  0.0  0.494734  0.781422  0.154361   \n",
       "\n",
       "         D8        D9  ...  D1767  D1768  D1769  D1770  D1771  D1772  D1773  \\\n",
       "0  0.585445  0.743663  ...      0      0      0      0      0      0      0   \n",
       "1  0.411754  0.836582  ...      1      1      1      1      0      1      0   \n",
       "2  0.517720  0.679051  ...      0      0      0      0      0      0      0   \n",
       "3  0.288764  0.805110  ...      0      0      0      0      0      0      0   \n",
       "4  0.303809  0.812646  ...      0      0      0      0      0      0      0   \n",
       "\n",
       "   D1774  D1775  D1776  \n",
       "0      0      0      0  \n",
       "1      0      1      0  \n",
       "2      0      0      0  \n",
       "3      0      0      0  \n",
       "4      0      0      0  \n",
       "\n",
       "[5 rows x 1777 columns]"
      ]
     },
     "execution_count": 3,
     "metadata": {},
     "output_type": "execute_result"
    }
   ],
   "source": [
    "data.head()"
   ]
  },
  {
   "cell_type": "markdown",
   "metadata": {},
   "source": [
    "Создаем матрицу наблюдений $X$ и вектор ответов $y$"
   ]
  },
  {
   "cell_type": "code",
   "execution_count": 4,
   "metadata": {},
   "outputs": [],
   "source": [
    "X = data.drop(columns=['Activity'])\n",
    "y = data['Activity']"
   ]
  },
  {
   "cell_type": "markdown",
   "metadata": {},
   "source": [
    "Разделяем выборку на тренировочную и тестовую. "
   ]
  },
  {
   "cell_type": "code",
   "execution_count": 5,
   "metadata": {},
   "outputs": [],
   "source": [
    "X_train, X_test, y_train, y_test = train_test_split(X, y, stratify=y, random_state = 42, test_size = 0.2)"
   ]
  },
  {
   "cell_type": "markdown",
   "metadata": {},
   "source": [
    "Обучим две модели: логистическую регрессию и случайный лес."
   ]
  },
  {
   "cell_type": "code",
   "execution_count": 6,
   "metadata": {},
   "outputs": [
    {
     "name": "stdout",
     "output_type": "stream",
     "text": [
      "Train: 0.89\n",
      "Test: 0.78\n"
     ]
    }
   ],
   "source": [
    "#Создаем объект класса логистическая регрессия\n",
    "log_reg = linear_model.LogisticRegression(max_iter = 1000)\n",
    "#Обучаем модель\n",
    "log_reg.fit(X_train, y_train)\n",
    "#Выводим значения метрики \n",
    "y_train_pred = log_reg.predict(X_train)\n",
    "print('Train: {:.2f}'.format(metrics.f1_score(y_train, y_train_pred)))\n",
    "y_test_pred = log_reg.predict(X_test)\n",
    "print('Test: {:.2f}'.format(metrics.f1_score(y_test, y_test_pred)))"
   ]
  },
  {
   "cell_type": "code",
   "execution_count": 7,
   "metadata": {},
   "outputs": [
    {
     "name": "stdout",
     "output_type": "stream",
     "text": [
      "Train: 1.00\n",
      "Test: 0.75\n"
     ]
    }
   ],
   "source": [
    "#Создаем объект класса дерево решений\n",
    "dt = tree.DecisionTreeClassifier(random_state=42)\n",
    "#Обучаем дерево по алгоритму CARTrint\n",
    "dt.fit(X_train, y_train)\n",
    "#Выводим значения метрики \n",
    "y_train_pred = dt.predict(X_train)\n",
    "print('Train: {:.2f}'.format(metrics.f1_score(y_train, y_train_pred)))\n",
    "y_test_pred = dt.predict(X_test)\n",
    "print('Test: {:.2f}'.format(metrics.f1_score(y_test, y_test_pred)))"
   ]
  },
  {
   "cell_type": "markdown",
   "metadata": {},
   "source": [
    "### Оптимизация гиперпараметров"
   ]
  },
  {
   "cell_type": "markdown",
   "metadata": {},
   "source": [
    "### GridSearchCV"
   ]
  },
  {
   "cell_type": "markdown",
   "metadata": {},
   "source": [
    "Логистическая регрессия"
   ]
  },
  {
   "cell_type": "code",
   "execution_count": 8,
   "metadata": {},
   "outputs": [
    {
     "name": "stdout",
     "output_type": "stream",
     "text": [
      "CPU times: total: 7.52 s\n",
      "Wall time: 16min 59s\n",
      "f1_score на тестовом наборе: 0.78\n",
      "Наилучшие значения гиперпараметров: {'C': 0.01, 'penalty': 'l2', 'solver': 'lbfgs'}\n"
     ]
    }
   ],
   "source": [
    "param_grid = {'penalty': ['l2', None] , # тип регуляризации\n",
    "              'solver': ['lbfgs', 'sag'], # алгоритм оптимизации\n",
    "               'C': [0.01, 0.1, 0.3, 0.5, 0.7, 0.9, 1]} # уровень силы регурялизации\n",
    "\n",
    "grid_search = GridSearchCV(\n",
    "    estimator=linear_model.LogisticRegression(\n",
    "        random_state=42,\n",
    "        max_iter=2000\n",
    "    ), \n",
    "    param_grid=param_grid, \n",
    "    cv=5, \n",
    "    n_jobs = -1\n",
    ")  \n",
    "%time grid_search.fit(X_train, y_train) \n",
    "\n",
    "y_test_pred = grid_search.predict(X_test)\n",
    "print('f1_score на тестовом наборе: {:.2f}'.format(metrics.f1_score(y_test, y_test_pred)))\n",
    "print(\"Наилучшие значения гиперпараметров: {}\".format(grid_search.best_params_))"
   ]
  },
  {
   "cell_type": "markdown",
   "metadata": {},
   "source": [
    "Улучшить метрику не получилось, она осталась прежней"
   ]
  },
  {
   "cell_type": "markdown",
   "metadata": {},
   "source": [
    "Случайный лес"
   ]
  },
  {
   "cell_type": "code",
   "execution_count": 9,
   "metadata": {},
   "outputs": [
    {
     "name": "stdout",
     "output_type": "stream",
     "text": [
      "CPU times: total: 1min 30s\n",
      "Wall time: 31min 38s\n",
      "f1_score на тестовом наборе: 0.77\n",
      "Наилучшие значения гиперпараметров: {'criterion': 'gini', 'max_depth': 4, 'min_samples_leaf': 6}\n"
     ]
    }
   ],
   "source": [
    "param_grid = {'min_samples_leaf': list(np.linspace(5, 100, 50, dtype=int)),\n",
    "              'max_depth': list(np.linspace(1, 30, 30, dtype=int)),\n",
    "              'criterion':['entropy','gini']\n",
    "              }\n",
    "            \n",
    "grid_search_tree = GridSearchCV(\n",
    "    estimator=tree.DecisionTreeClassifier(random_state=42), \n",
    "    param_grid=param_grid, \n",
    "    cv=5, \n",
    "    n_jobs = -1\n",
    ")  \n",
    "%time grid_search_tree.fit(X_train, y_train) \n",
    "\n",
    "y_test_pred = grid_search_tree.predict(X_test)\n",
    "print('f1_score на тестовом наборе: {:.2f}'.format(metrics.f1_score(y_test, y_test_pred)))\n",
    "print(\"Наилучшие значения гиперпараметров: {}\".format(grid_search_tree.best_params_))"
   ]
  },
  {
   "cell_type": "markdown",
   "metadata": {},
   "source": [
    "Метрика немного улучшилась по сравнению с базовым решением."
   ]
  },
  {
   "cell_type": "markdown",
   "metadata": {},
   "source": [
    "### **RandomizedSearchCV**"
   ]
  },
  {
   "cell_type": "markdown",
   "metadata": {},
   "source": [
    "Логистическая регрессия"
   ]
  },
  {
   "cell_type": "code",
   "execution_count": 11,
   "metadata": {},
   "outputs": [
    {
     "name": "stdout",
     "output_type": "stream",
     "text": [
      "CPU times: total: 8.83 s\n",
      "Wall time: 18min 31s\n",
      "f1_score на тестовом наборе: 0.78\n",
      "Наилучшие значения гиперпараметров: {'solver': 'lbfgs', 'penalty': 'l2', 'C': 0.01}\n"
     ]
    }
   ],
   "source": [
    "param_distributions = {'penalty': ['l2', None] ,\n",
    "              'solver': ['lbfgs', 'sag'],\n",
    "               'C': [0.01, 0.1, 0.3, 0.5, 0.7, 0.9, 1]}\n",
    "            \n",
    "random_search = RandomizedSearchCV(\n",
    "    estimator=linear_model.LogisticRegression(random_state=42, max_iter=2000), \n",
    "    param_distributions=param_distributions, \n",
    "    cv=5, \n",
    "    n_iter = 28,\n",
    "    n_jobs = -1\n",
    ")  \n",
    "%time random_search.fit(X_train, y_train) \n",
    "\n",
    "y_test_pred = random_search.predict(X_test)\n",
    "print('f1_score на тестовом наборе: {:.2f}'.format(metrics.f1_score(y_test, y_test_pred)))\n",
    "print(\"Наилучшие значения гиперпараметров: {}\".format(random_search.best_params_))"
   ]
  },
  {
   "cell_type": "markdown",
   "metadata": {},
   "source": [
    "Улучшить метрику по прежнему не удалось, она осталась прежней"
   ]
  },
  {
   "cell_type": "markdown",
   "metadata": {},
   "source": [
    "Случайный лес"
   ]
  },
  {
   "cell_type": "code",
   "execution_count": 12,
   "metadata": {},
   "outputs": [
    {
     "name": "stdout",
     "output_type": "stream",
     "text": [
      "CPU times: total: 1.83 s\n",
      "Wall time: 38.4 s\n",
      "f1_score на тестовом наборе: 0.77\n",
      "Наилучшие значения гиперпараметров: {'min_samples_leaf': 78, 'max_depth': 3, 'criterion': 'gini'}\n"
     ]
    }
   ],
   "source": [
    "param_distributions = {'min_samples_leaf': list(np.linspace(5, 100, 50, dtype=int)),\n",
    "              'max_depth': list(np.linspace(1, 30, 30, dtype=int)),\n",
    "              'criterion':['entropy','gini']\n",
    "              }\n",
    "            \n",
    "random_search_tree = RandomizedSearchCV(\n",
    "    estimator=tree.DecisionTreeClassifier(random_state=42), \n",
    "    param_distributions=param_distributions, \n",
    "    cv=5,\n",
    "    n_iter = 50, \n",
    "    n_jobs = -1\n",
    ")  \n",
    "%time random_search_tree.fit(X_train, y_train) \n",
    "\n",
    "y_test_pred = random_search_tree.predict(X_test)\n",
    "print('f1_score на тестовом наборе: {:.2f}'.format(metrics.f1_score(y_test, y_test_pred)))\n",
    "print(\"Наилучшие значения гиперпараметров: {}\".format(random_search_tree.best_params_))"
   ]
  },
  {
   "cell_type": "markdown",
   "metadata": {},
   "source": [
    "По сравненю с базовым решением метрика немного улучшилась"
   ]
  },
  {
   "cell_type": "markdown",
   "metadata": {},
   "source": [
    "### Hyperopt"
   ]
  },
  {
   "cell_type": "markdown",
   "metadata": {},
   "source": [
    "Логистическая регрессия"
   ]
  },
  {
   "cell_type": "code",
   "execution_count": 41,
   "metadata": {},
   "outputs": [
    {
     "name": "stdout",
     "output_type": "stream",
     "text": [
      "  0%|          | 0/20 [00:00<?, ?trial/s, best loss=?]"
     ]
    },
    {
     "name": "stdout",
     "output_type": "stream",
     "text": [
      "100%|██████████| 20/20 [13:17<00:00, 39.85s/trial, best loss: -0.7872758838461376]\n",
      "Наилучшие значения гиперпараметров {'C': 0, 'penalty': 0, 'solver': 1}\n"
     ]
    }
   ],
   "source": [
    "# зададим пространство поиска гиперпараметров\n",
    "penalty = ['l2', None]\n",
    "solver = ['lbfgs', 'sag']\n",
    "C = [0.01, 0.1, 0.3, 0.5, 0.7, 0.9, 1]\n",
    "space = {'penalty': hp.choice('penalty', penalty),\n",
    "         'solver': hp.choice('solver', solver),\n",
    "         'C': hp.choice('C', C)\n",
    "         }\n",
    "\n",
    "# зафксируем random_state\n",
    "random_state = 42\n",
    "\n",
    "def hyperopt_lr(params, cv=5, X=X_train, y=y_train, random_state=random_state):\n",
    "    # функция получает комбинацию гиперпараметров в \"params\"\n",
    "    params = {'penalty': params['penalty'], \n",
    "              'solver': params['solver'], \n",
    "             'C': params['C']\n",
    "              }\n",
    "\n",
    "    # используем эту комбинацию для построения модели\n",
    "    model = linear_model.LogisticRegression(**params, random_state=random_state, max_iter=2000)\n",
    "  \n",
    "    # обучаем модель\n",
    "    score = cross_val_score(model, X, y, cv=cv, scoring=\"f1\", n_jobs=-1).mean()\n",
    "\n",
    "    # метрику необходимо минимизировать, поэтому ставим знак минус\n",
    "    return -score\n",
    "\n",
    "# начинаем подбор гиперпараметров\n",
    "trials = Trials() # используется для логирования результатов\n",
    "\n",
    "best=fmin(hyperopt_lr, # наша функция \n",
    "          space=space, # пространство гиперпараметров\n",
    "          algo=tpe.suggest, # алгоритм оптимизации, установлен по умолчанию, задавать необязательно\n",
    "          max_evals=20, # максимальное количество итераций\n",
    "          trials=trials, # логирование результатов\n",
    "          rstate=np.random.default_rng(random_state)# фиксируем для повторяемости результата\n",
    "         )\n",
    "print(\"Наилучшие значения гиперпараметров {}\".format(best))\n"
   ]
  },
  {
   "cell_type": "code",
   "execution_count": 42,
   "metadata": {},
   "outputs": [
    {
     "name": "stdout",
     "output_type": "stream",
     "text": [
      "f1_score на тестовом наборе: 0.78\n"
     ]
    }
   ],
   "source": [
    "# рассчитаем точность для тестовой выборки\n",
    "model = linear_model.LogisticRegression(\n",
    "    penalty=penalty[best['penalty']], \n",
    "    solver=solver[best['solver']],\n",
    "    C=C[best['C']],\n",
    "    random_state=random_state, \n",
    "    max_iter=2000\n",
    "    )\n",
    "\n",
    "model.fit(X_train, y_train)\n",
    "\n",
    "y_test_pred = model.predict(X_test)\n",
    "print('f1_score на тестовом наборе: {:.2f}'.format(metrics.f1_score(y_test, y_test_pred)))"
   ]
  },
  {
   "cell_type": "markdown",
   "metadata": {},
   "source": [
    "Оптимизируя гиперпараметры с помощью Hyperopt, удалось улучшить метрику до 0.78"
   ]
  },
  {
   "cell_type": "markdown",
   "metadata": {},
   "source": [
    "Случайный лес"
   ]
  },
  {
   "cell_type": "code",
   "execution_count": 14,
   "metadata": {},
   "outputs": [
    {
     "name": "stdout",
     "output_type": "stream",
     "text": [
      "100%|██████████| 20/20 [02:05<00:00,  6.25s/trial, best loss: -0.8160803811393121]\n",
      "Наилучшие значения гиперпараметров {'max_depth': 18.0, 'min_samples_leaf': 2.0, 'n_estimators': 103.0}\n",
      "f1_score на обучающем наборе: 0.99\n",
      "f1_score на тестовом наборе: 0.81\n"
     ]
    }
   ],
   "source": [
    "# зададим пространство поиска гиперпараметров\n",
    "space={'n_estimators': hp.quniform('n_estimators', 100, 200, 1),\n",
    "       'max_depth' : hp.quniform('max_depth', 15, 26, 1),\n",
    "       'min_samples_leaf': hp.quniform('min_samples_leaf', 2, 10, 1)\n",
    "      }\n",
    "\n",
    "# зафксируем random_state\n",
    "random_state = 42\n",
    "\n",
    "def hyperopt_rf(params, cv=5, X=X_train, y=y_train, random_state=random_state):\n",
    "    # функция получает комбинацию гиперпараметров в \"params\"\n",
    "    params = {'n_estimators': int(params['n_estimators']), \n",
    "              'max_depth': int(params['max_depth']), \n",
    "             'min_samples_leaf': int(params['min_samples_leaf'])\n",
    "              }\n",
    "  \n",
    "    # используем эту комбинацию для построения модели\n",
    "    model = ensemble.RandomForestClassifier(**params, random_state=random_state)\n",
    "\n",
    "    # обучаем модель\n",
    "    score = cross_val_score(model, X, y, cv=cv, scoring=\"f1\", n_jobs=-1).mean()\n",
    "\n",
    "    # метрику необходимо минимизировать, поэтому ставим знак минус\n",
    "    return -score\n",
    "\n",
    "# начинаем подбор гиперпараметров\n",
    "trials = Trials() # используется для логирования результатов\n",
    "\n",
    "best=fmin(hyperopt_rf, # наша функция \n",
    "          space=space, # пространство гиперпараметров\n",
    "          algo=tpe.suggest, # алгоритм оптимизации, установлен по умолчанию, задавать необязательно\n",
    "          max_evals=20, # максимальное количество итераций\n",
    "          trials=trials, # логирование результатов\n",
    "          rstate=np.random.default_rng(random_state)# фиксируем для повторяемости результата\n",
    "         )\n",
    "print(\"Наилучшие значения гиперпараметров {}\".format(best))\n",
    "\n",
    "# рассчитаем точность для тестовой выборки\n",
    "model = ensemble.RandomForestClassifier(\n",
    "    random_state=random_state, \n",
    "    n_estimators=int(best['n_estimators']),\n",
    "    max_depth=int(best['max_depth']),\n",
    "    min_samples_leaf=int(best['min_samples_leaf'])\n",
    ")\n",
    "model.fit(X_train, y_train)\n",
    "y_train_pred = model.predict(X_train)\n",
    "print('f1_score на обучающем наборе: {:.2f}'.format(metrics.f1_score(y_train, y_train_pred)))\n",
    "\n",
    "y_test_pred = model.predict(X_test)\n",
    "print('f1_score на тестовом наборе: {:.2f}'.format(metrics.f1_score(y_test, y_test_pred)))"
   ]
  },
  {
   "cell_type": "markdown",
   "metadata": {},
   "source": [
    "Оптимизируя гиперпараметры с помощью Hyperopt, удалось улучшить метрику до 0.81."
   ]
  },
  {
   "cell_type": "markdown",
   "metadata": {},
   "source": [
    "## Optuna"
   ]
  },
  {
   "cell_type": "markdown",
   "metadata": {},
   "source": [
    "Логистическая регрессия"
   ]
  },
  {
   "cell_type": "code",
   "execution_count": 50,
   "metadata": {},
   "outputs": [
    {
     "name": "stderr",
     "output_type": "stream",
     "text": [
      "[I 2023-11-30 19:19:07,224] A new study created in memory with name: LogisticRegression\n",
      "[I 2023-11-30 19:19:09,971] Trial 0 finished with value: 0.7831048987444514 and parameters: {'penalty': 'l2', 'solver': 'lbfgs', 'C': 0.01}. Best is trial 0 with value: 0.7831048987444514.\n",
      "[I 2023-11-30 19:19:19,447] Trial 1 finished with value: 0.7815615657906223 and parameters: {'penalty': 'l2', 'solver': 'lbfgs', 'C': 0.3}. Best is trial 0 with value: 0.7831048987444514.\n",
      "[I 2023-11-30 19:21:44,004] Trial 2 finished with value: 0.7571940378262074 and parameters: {'penalty': None, 'solver': 'sag', 'C': 0.01}. Best is trial 0 with value: 0.7831048987444514.\n",
      "[I 2023-11-30 19:22:48,894] Trial 3 finished with value: 0.7233057883232787 and parameters: {'penalty': None, 'solver': 'lbfgs', 'C': 0.9}. Best is trial 0 with value: 0.7831048987444514.\n",
      "[I 2023-11-30 19:22:56,255] Trial 4 finished with value: 0.783697530028722 and parameters: {'penalty': 'l2', 'solver': 'sag', 'C': 0.01}. Best is trial 4 with value: 0.783697530028722.\n",
      "[I 2023-11-30 19:23:09,339] Trial 5 finished with value: 0.779762127080915 and parameters: {'penalty': 'l2', 'solver': 'lbfgs', 'C': 0.5}. Best is trial 4 with value: 0.783697530028722.\n",
      "[I 2023-11-30 19:24:13,527] Trial 6 finished with value: 0.7233057883232787 and parameters: {'penalty': None, 'solver': 'lbfgs', 'C': 0.3}. Best is trial 4 with value: 0.783697530028722.\n",
      "[I 2023-11-30 19:25:18,091] Trial 7 finished with value: 0.7233057883232787 and parameters: {'penalty': None, 'solver': 'lbfgs', 'C': 1}. Best is trial 4 with value: 0.783697530028722.\n",
      "[I 2023-11-30 19:25:27,984] Trial 8 finished with value: 0.7815615657906223 and parameters: {'penalty': 'l2', 'solver': 'lbfgs', 'C': 0.3}. Best is trial 4 with value: 0.783697530028722.\n",
      "[I 2023-11-30 19:28:16,904] Trial 9 finished with value: 0.7571940378262074 and parameters: {'penalty': None, 'solver': 'sag', 'C': 0.1}. Best is trial 4 with value: 0.783697530028722.\n",
      "[I 2023-11-30 19:29:03,231] Trial 10 finished with value: 0.7775874034379038 and parameters: {'penalty': 'l2', 'solver': 'sag', 'C': 0.7}. Best is trial 4 with value: 0.783697530028722.\n",
      "[I 2023-11-30 19:29:11,973] Trial 11 finished with value: 0.783697530028722 and parameters: {'penalty': 'l2', 'solver': 'sag', 'C': 0.01}. Best is trial 4 with value: 0.783697530028722.\n",
      "[I 2023-11-30 19:29:20,357] Trial 12 finished with value: 0.783697530028722 and parameters: {'penalty': 'l2', 'solver': 'sag', 'C': 0.01}. Best is trial 4 with value: 0.783697530028722.\n",
      "[I 2023-11-30 19:29:28,596] Trial 13 finished with value: 0.783697530028722 and parameters: {'penalty': 'l2', 'solver': 'sag', 'C': 0.01}. Best is trial 4 with value: 0.783697530028722.\n",
      "[I 2023-11-30 19:29:39,951] Trial 14 finished with value: 0.783697530028722 and parameters: {'penalty': 'l2', 'solver': 'sag', 'C': 0.01}. Best is trial 4 with value: 0.783697530028722.\n",
      "[I 2023-11-30 19:30:24,375] Trial 15 finished with value: 0.774675604890753 and parameters: {'penalty': 'l2', 'solver': 'sag', 'C': 1}. Best is trial 4 with value: 0.783697530028722.\n",
      "[I 2023-11-30 19:31:02,077] Trial 16 finished with value: 0.7850671954033499 and parameters: {'penalty': 'l2', 'solver': 'sag', 'C': 0.1}. Best is trial 16 with value: 0.7850671954033499.\n",
      "[I 2023-11-30 19:31:31,856] Trial 17 finished with value: 0.7850671954033499 and parameters: {'penalty': 'l2', 'solver': 'sag', 'C': 0.1}. Best is trial 16 with value: 0.7850671954033499.\n",
      "[I 2023-11-30 19:32:02,690] Trial 18 finished with value: 0.7850671954033499 and parameters: {'penalty': 'l2', 'solver': 'sag', 'C': 0.1}. Best is trial 16 with value: 0.7850671954033499.\n",
      "[I 2023-11-30 19:32:35,310] Trial 19 finished with value: 0.7850671954033499 and parameters: {'penalty': 'l2', 'solver': 'sag', 'C': 0.1}. Best is trial 16 with value: 0.7850671954033499.\n"
     ]
    }
   ],
   "source": [
    "ls_penalty = ['l2', None]\n",
    "ls_solver = ['lbfgs', 'sag']\n",
    "ls_C = [0.01, 0.1, 0.3, 0.5, 0.7, 0.9, 1]\n",
    "  \n",
    "def optuna_lr(trial):\n",
    "  # задаем пространства поиска гиперпараметров\n",
    "\n",
    "  penalty = trial.suggest_categorical('penalty', ls_penalty)\n",
    "  solver = trial.suggest_categorical('solver', ls_solver)\n",
    "  C = trial.suggest_categorical('C', ls_C)\n",
    "  \n",
    "  # создаем модель\n",
    "  model = linear_model.LogisticRegression(penalty=penalty,\n",
    "                                          solver=solver,\n",
    "                                          C=C,\n",
    "                                          random_state=random_state, \n",
    "                                          max_iter=2000)\n",
    "  \n",
    "  # обучаем модель\n",
    "  score = cross_val_score(model, X, y, cv=5, scoring=\"f1\", n_jobs=-1).mean()\n",
    "  \n",
    "  return score\n",
    "\n",
    "# cоздаем объект исследования\n",
    "study = optuna.create_study(study_name=\"LogisticRegression\", direction=\"maximize\")\n",
    "# ищем лучшую комбинацию гиперпараметров n_trials раз\n",
    "study.optimize(optuna_lr, n_trials=20)"
   ]
  },
  {
   "cell_type": "code",
   "execution_count": 52,
   "metadata": {},
   "outputs": [
    {
     "name": "stdout",
     "output_type": "stream",
     "text": [
      "Наилучшие значения гиперпараметров {'penalty': 'l2', 'solver': 'sag', 'C': 0.1}\n",
      "f1_score на обучающем наборе: 0.79\n",
      "f1_score на тестовом наборе: 0.79\n"
     ]
    }
   ],
   "source": [
    "# выводим результаты\n",
    "print(\"Наилучшие значения гиперпараметров {}\".format(study.best_params))\n",
    "print(\"f1_score на обучающем наборе: {:.2f}\".format(study.best_value))\n",
    "\n",
    "# рассчитаем точность для тестовой выборки\n",
    "model = linear_model.LogisticRegression(**study.best_params, random_state=random_state, max_iter=2000)\n",
    "model.fit(X_train, y_train)\n",
    "\n",
    "y_test_pred = model.predict(X_test)\n",
    "print('f1_score на тестовом наборе: {:.2f}'.format(metrics.f1_score(y_test, y_test_pred)))"
   ]
  },
  {
   "cell_type": "markdown",
   "metadata": {},
   "source": [
    "Оптимизируя гиперпараметры с помощью Optuna, удалось улучшить метрику до 0.79"
   ]
  },
  {
   "cell_type": "markdown",
   "metadata": {},
   "source": [
    "Случайный лес"
   ]
  },
  {
   "cell_type": "code",
   "execution_count": 45,
   "metadata": {},
   "outputs": [
    {
     "name": "stderr",
     "output_type": "stream",
     "text": [
      "[I 2023-11-30 18:56:06,866] A new study created in memory with name: RandomForestClassifier\n"
     ]
    },
    {
     "name": "stderr",
     "output_type": "stream",
     "text": [
      "[I 2023-11-30 18:56:39,328] Trial 0 finished with value: 0.8051791397069195 and parameters: {'n_estimators': 110, 'max_depth': 30, 'min_samples_leaf': 5}. Best is trial 0 with value: 0.8051791397069195.\n",
      "[I 2023-11-30 18:56:47,141] Trial 1 finished with value: 0.8033603560631901 and parameters: {'n_estimators': 158, 'max_depth': 20, 'min_samples_leaf': 7}. Best is trial 0 with value: 0.8051791397069195.\n",
      "[I 2023-11-30 18:56:51,096] Trial 2 finished with value: 0.7954424255170707 and parameters: {'n_estimators': 118, 'max_depth': 21, 'min_samples_leaf': 10}. Best is trial 0 with value: 0.8051791397069195.\n",
      "[I 2023-11-30 18:56:57,613] Trial 3 finished with value: 0.8111588415706054 and parameters: {'n_estimators': 143, 'max_depth': 20, 'min_samples_leaf': 3}. Best is trial 3 with value: 0.8111588415706054.\n",
      "[I 2023-11-30 18:57:02,674] Trial 4 finished with value: 0.8058921859664574 and parameters: {'n_estimators': 148, 'max_depth': 11, 'min_samples_leaf': 3}. Best is trial 3 with value: 0.8111588415706054.\n",
      "[I 2023-11-30 18:57:07,856] Trial 5 finished with value: 0.7966918913204883 and parameters: {'n_estimators': 142, 'max_depth': 11, 'min_samples_leaf': 8}. Best is trial 3 with value: 0.8111588415706054.\n",
      "[I 2023-11-30 18:57:13,242] Trial 6 finished with value: 0.7991731916711797 and parameters: {'n_estimators': 152, 'max_depth': 29, 'min_samples_leaf': 8}. Best is trial 3 with value: 0.8111588415706054.\n",
      "[I 2023-11-30 18:57:19,639] Trial 7 finished with value: 0.8034880947778131 and parameters: {'n_estimators': 170, 'max_depth': 28, 'min_samples_leaf': 6}. Best is trial 3 with value: 0.8111588415706054.\n",
      "[I 2023-11-30 18:57:24,731] Trial 8 finished with value: 0.7956957741362926 and parameters: {'n_estimators': 152, 'max_depth': 28, 'min_samples_leaf': 9}. Best is trial 3 with value: 0.8111588415706054.\n",
      "[I 2023-11-30 18:57:30,260] Trial 9 finished with value: 0.8064138626763333 and parameters: {'n_estimators': 150, 'max_depth': 17, 'min_samples_leaf': 6}. Best is trial 3 with value: 0.8111588415706054.\n",
      "[I 2023-11-30 18:57:39,333] Trial 10 finished with value: 0.8148524453289985 and parameters: {'n_estimators': 197, 'max_depth': 23, 'min_samples_leaf': 2}. Best is trial 10 with value: 0.8148524453289985.\n",
      "[I 2023-11-30 18:57:47,900] Trial 11 finished with value: 0.8155280755657526 and parameters: {'n_estimators': 194, 'max_depth': 23, 'min_samples_leaf': 2}. Best is trial 11 with value: 0.8155280755657526.\n",
      "[I 2023-11-30 18:57:57,227] Trial 12 finished with value: 0.815101680239583 and parameters: {'n_estimators': 200, 'max_depth': 24, 'min_samples_leaf': 2}. Best is trial 11 with value: 0.8155280755657526.\n",
      "[I 2023-11-30 18:58:04,954] Trial 13 finished with value: 0.8072116393175385 and parameters: {'n_estimators': 199, 'max_depth': 25, 'min_samples_leaf': 4}. Best is trial 11 with value: 0.8155280755657526.\n",
      "[I 2023-11-30 18:58:13,213] Trial 14 finished with value: 0.8145217385214435 and parameters: {'n_estimators': 183, 'max_depth': 25, 'min_samples_leaf': 2}. Best is trial 11 with value: 0.8155280755657526.\n",
      "[I 2023-11-30 18:58:19,961] Trial 15 finished with value: 0.8101929409704303 and parameters: {'n_estimators': 180, 'max_depth': 15, 'min_samples_leaf': 4}. Best is trial 11 with value: 0.8155280755657526.\n",
      "[I 2023-11-30 18:58:28,517] Trial 16 finished with value: 0.8150167061223991 and parameters: {'n_estimators': 186, 'max_depth': 25, 'min_samples_leaf': 2}. Best is trial 11 with value: 0.8155280755657526.\n",
      "[I 2023-11-30 18:58:35,121] Trial 17 finished with value: 0.8099605740681378 and parameters: {'n_estimators': 171, 'max_depth': 17, 'min_samples_leaf': 4}. Best is trial 11 with value: 0.8155280755657526.\n",
      "[I 2023-11-30 18:58:43,418] Trial 18 finished with value: 0.8132109016503177 and parameters: {'n_estimators': 200, 'max_depth': 23, 'min_samples_leaf': 3}. Best is trial 11 with value: 0.8155280755657526.\n",
      "[I 2023-11-30 18:58:50,180] Trial 19 finished with value: 0.8089945172213359 and parameters: {'n_estimators': 189, 'max_depth': 17, 'min_samples_leaf': 5}. Best is trial 11 with value: 0.8155280755657526.\n"
     ]
    }
   ],
   "source": [
    "def optuna_rf(trial):\n",
    "  # задаем пространства поиска гиперпараметров\n",
    "  n_estimators = trial.suggest_int('n_estimators', 100, 200, 1)\n",
    "  max_depth = trial.suggest_int('max_depth', 10, 30, 1)\n",
    "  min_samples_leaf = trial.suggest_int('min_samples_leaf', 2, 10, 1)\n",
    "\n",
    "  # создаем модель\n",
    "  model = ensemble.RandomForestClassifier(n_estimators=n_estimators,\n",
    "                                          max_depth=max_depth,\n",
    "                                          min_samples_leaf=min_samples_leaf,\n",
    "                                          random_state=random_state)\n",
    "  \n",
    "  # обучаем модель\n",
    "  score = cross_val_score(model, X, y, cv=5, scoring=\"f1\", n_jobs=-1).mean()\n",
    "\n",
    "  return score\n",
    "\n",
    "# cоздаем объект исследования\n",
    "study = optuna.create_study(study_name=\"RandomForestClassifier\", direction=\"maximize\")\n",
    "# ищем лучшую комбинацию гиперпараметров n_trials раз\n",
    "study.optimize(optuna_rf, n_trials=20)"
   ]
  },
  {
   "cell_type": "code",
   "execution_count": 46,
   "metadata": {},
   "outputs": [
    {
     "name": "stdout",
     "output_type": "stream",
     "text": [
      "Наилучшие значения гиперпараметров {'n_estimators': 194, 'max_depth': 23, 'min_samples_leaf': 2}\n",
      "f1_score на обучающем наборе: 0.82\n",
      "f1_score на тестовом наборе: 0.80\n"
     ]
    }
   ],
   "source": [
    "# выводим результаты\n",
    "print(\"Наилучшие значения гиперпараметров {}\".format(study.best_params))\n",
    "print(\"f1_score на обучающем наборе: {:.2f}\".format(study.best_value))\n",
    "\n",
    "# рассчитаем точность для тестовой выборки\n",
    "model = ensemble.RandomForestClassifier(**study.best_params, random_state=random_state)\n",
    "model.fit(X_train, y_train)\n",
    "\n",
    "y_test_pred = model.predict(X_test)\n",
    "print('f1_score на тестовом наборе: {:.2f}'.format(metrics.f1_score(y_test, y_test_pred)))"
   ]
  },
  {
   "cell_type": "markdown",
   "metadata": {},
   "source": [
    "Оптимизируя гиперпараметры с помощью Optuna, удалось улучшить метрику до 0.80."
   ]
  }
 ],
 "metadata": {
  "kernelspec": {
   "display_name": "Python 3",
   "language": "python",
   "name": "python3"
  },
  "language_info": {
   "codemirror_mode": {
    "name": "ipython",
    "version": 3
   },
   "file_extension": ".py",
   "mimetype": "text/x-python",
   "name": "python",
   "nbconvert_exporter": "python",
   "pygments_lexer": "ipython3",
   "version": "3.11.2"
  }
 },
 "nbformat": 4,
 "nbformat_minor": 2
}
